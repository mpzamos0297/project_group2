{
  "cells": [
    {
      "cell_type": "code",
      "execution_count": 80,
      "metadata": {
        "id": "wxBnYbpHcBFx"
      },
      "outputs": [],
      "source": [
        "from pyspark.sql import SparkSession\n",
        "from pyspark.sql.types import StructType, StructField, StringType, IntegerType, FloatType, LongType, TimestampType\n",
        "from pyspark.sql.functions import col, to_date\n",
        "from pyspark.sql import functions as F, types as T"
      ]
    },
    {
      "cell_type": "code",
      "execution_count": 2,
      "metadata": {
        "id": "OOjdd1GAca8b"
      },
      "outputs": [],
      "source": [
        "spark = SparkSession.builder.appName(\"NYC Parking Tickets\").getOrCreate()"
      ]
    },
    {
      "cell_type": "markdown",
      "source": [
        "### **DATA**"
      ],
      "metadata": {
        "id": "AakZUoWbj5-y"
      }
    },
    {
      "cell_type": "code",
      "execution_count": 194,
      "metadata": {
        "id": "3oqaliyhc1MQ"
      },
      "outputs": [],
      "source": [
        "df = spark.read.csv('/content/sample_data/nyc_parking_tickets/*.csv', header=True, inferSchema=True)\n",
        "df2= spark.read.csv('/content/sample_data/violation_codes/*.csv', header=True, inferSchema=True)"
      ]
    },
    {
      "cell_type": "code",
      "execution_count": 173,
      "metadata": {
        "colab": {
          "base_uri": "https://localhost:8080/"
        },
        "id": "bOK_Obo7eGzO",
        "outputId": "4665b09c-f832-411a-ae4a-88d24ca5a6ce"
      },
      "outputs": [
        {
          "output_type": "stream",
          "name": "stdout",
          "text": [
            "+--------------+--------+------------------+----------+----------+--------------+-----------------+------------+--------------+------------+------------+------------+-----------------------+------------------+------------------+---------------+-----------+--------------+------------+--------------+-------------------+----------------+---------------------------------+------------+--------------------+-------------------+-------------------+-----------+------------+--------------------+--------------------------+--------------------+------------------+-------------+---------------------+------------+------------+--------------+-------------------+\n",
            "|Summons Number|Plate ID|Registration State|Plate Type|Issue Date|Violation Code|Vehicle Body Type|Vehicle Make|Issuing Agency|Street Code1|Street Code2|Street Code3|Vehicle Expiration Date|Violation Location|Violation Precinct|Issuer Precinct|Issuer Code|Issuer Command|Issuer Squad|Violation Time|Time First Observed|Violation County|Violation In Front Of Or Opposite|House Number|         Street Name|Intersecting Street|Date First Observed|Law Section|Sub Division|Violation Legal Code|Days Parking In Effect    |From Hours In Effect|To Hours In Effect|Vehicle Color|Unregistered Vehicle?|Vehicle Year|Meter Number|Feet From Curb|Violation Post Code|\n",
            "+--------------+--------+------------------+----------+----------+--------------+-----------------+------------+--------------+------------+------------+------------+-----------------------+------------------+------------------+---------------+-----------+--------------+------------+--------------+-------------------+----------------+---------------------------------+------------+--------------------+-------------------+-------------------+-----------+------------+--------------------+--------------------------+--------------------+------------------+-------------+---------------------+------------+------------+--------------+-------------------+\n",
            "|    1492814167| JEA3777|                NY|       PAS|01/02/2025|            20|             TAXI|       VOLVO|             P|           0|       40404|       40404|               20250102|                88|                88|            803|     950192|          0803|        0000|         0621P|               NULL|               K|                                F|         125|      NORTH PORTLAND|               NULL|                  0|        408|          F1|                NULL|                   BBBBBBB|                 ALL|               ALL|          BLK|                    0|        2011|           -|             0|               NULL|\n",
            "|    4042039145| KKA8982|                NY|       PAS|01/02/2025|             5|             4DSD|       HYUND|             V|           0|           0|           0|                      0|              NULL|                 0|              0|          0|          NULL|        NULL|         0702A|               NULL|              BK|                             NULL|        NULL|WB CHURCH AVE @ E 8T|               H ST|                  0|       1111|           C|                   T|                      NULL|                NULL|              NULL|           RD|                 NULL|        2020|        NULL|             0|               NULL|\n",
            "|    4042039510| MSA3480|                PA|       PAS|01/02/2025|             5|               CP|         BMW|             V|           0|           0|           0|                      0|              NULL|                 0|              0|          0|          NULL|        NULL|         0757A|               NULL|              QN|                             NULL|        NULL|EB JAMAICA AVE @ SUT|          PHIN BLVD|                  0|       1111|           C|                   T|                      NULL|                NULL|              NULL|         NULL|                 NULL|        2021|        NULL|             0|               NULL|\n",
            "|    4042039522| 63383NA|                NY|       COM|01/02/2025|             5|              VAN|       CHEVR|             V|           0|           0|           0|                      0|              NULL|                 0|              0|          0|          NULL|        NULL|         0758A|               NULL|              BK|                             NULL|        NULL|WB FULTON ST @ LAWRE|             NCE ST|                  0|       1111|           C|                   T|                      NULL|                NULL|              NULL|           WH|                 NULL|        2020|        NULL|             0|               NULL|\n",
            "|    4042039534| 63383NA|                NY|       COM|01/02/2025|             5|              VAN|       CHEVR|             V|           0|           0|           0|                      0|              NULL|                 0|              0|          0|          NULL|        NULL|         0758A|               NULL|              BK|                             NULL|        NULL|WB FULTON ST @ LAWRE|             NCE ST|                  0|       1111|           C|                   T|                      NULL|                NULL|              NULL|           WH|                 NULL|        2020|        NULL|             0|               NULL|\n",
            "|    4042039546| LWL6395|                PA|       PAS|01/02/2025|             5|              SDN|       LEXUS|             V|           0|           0|           0|                      0|              NULL|                 0|              0|          0|          NULL|        NULL|         0759A|               NULL|              BK|                             NULL|        NULL|NB ROGERS AVE @ MONT|          GOMERY ST|                  0|       1111|           C|                   T|                      NULL|                NULL|              NULL|         NULL|                 NULL|        2019|        NULL|             0|               NULL|\n",
            "|    4042039558| 22312NE|                NY|       COM|01/02/2025|             5|             DELV|       FRUEH|             V|           0|           0|           0|                      0|              NULL|                 0|              0|          0|          NULL|        NULL|         0759A|               NULL|              BK|                             NULL|        NULL|EB CHURCH AVE @ CONE|       Y ISLAND AVE|                  0|       1111|           C|                   T|                      NULL|                NULL|              NULL|           GR|                 NULL|        2024|        NULL|             0|               NULL|\n",
            "|    4042039560|T131642C|                NY|       OMT|01/02/2025|             5|             SUBN|       TOYOT|             V|           0|           0|           0|                      0|              NULL|                 0|              0|          0|          NULL|        NULL|         0804A|               NULL|              QN|                             NULL|        NULL| NB WOODHAVEN BLVD @|           97TH AVE|                  0|       1111|           C|                   T|                      NULL|                NULL|              NULL|           GY|                 NULL|        2023|        NULL|             0|               NULL|\n",
            "|    4042039571| TKT1742|                TX|       PAS|01/02/2025|             5|               LL|       TOYOT|             V|           0|           0|           0|                      0|              NULL|                 0|              0|          0|          NULL|        NULL|         0806A|               NULL|              BX|                             NULL|        NULL|SB WEBSTER AVE @ E 1|            94TH ST|                  0|       1111|           C|                   T|                      NULL|                NULL|              NULL|         NULL|                 NULL|        2011|        NULL|             0|               NULL|\n",
            "|    4042039583|T799929C|                NY|       OMT|01/02/2025|             5|             4DSD|       TOYOT|             V|           0|           0|           0|                      0|              NULL|                 0|              0|          0|          NULL|        NULL|         0806A|               NULL|              BK|                             NULL|        NULL|WB KINGS HIGHWAY @ E|            37TH ST|                  0|       1111|           C|                   T|                      NULL|                NULL|              NULL|           BK|                 NULL|        2015|        NULL|             0|               NULL|\n",
            "|    4042039595| KLA7363|                NY|       PAS|01/02/2025|             5|             SUBN|       TOYOT|             V|           0|           0|           0|                      0|              NULL|                 0|              0|          0|          NULL|        NULL|         0807A|               NULL|              QN|                             NULL|        NULL|SB MAIN ST @ SANFORD|                AVE|                  0|       1111|           C|                   T|                      NULL|                NULL|              NULL|           GY|                 NULL|        2018|        NULL|             0|               NULL|\n",
            "|    4042039601| LJP3596|                NY|       PAS|01/02/2025|             5|             PICK|       NISSA|             V|           0|           0|           0|                      0|              NULL|                 0|              0|          0|          NULL|        NULL|         0810A|               NULL|              QN|                             NULL|        NULL|WB JAMAICA AVE @ 168|              TH ST|                  0|       1111|           C|                   T|                      NULL|                NULL|              NULL|           GY|                 NULL|        2023|        NULL|             0|               NULL|\n",
            "|    4042039613|  M98RUH|                NJ|       PAS|01/02/2025|             5|             SEDA|       HONDA|             V|           0|           0|           0|                      0|              NULL|                 0|              0|          0|          NULL|        NULL|         0810A|               NULL|              BK|                             NULL|        NULL|NB ROGERS AVE @ MONT|          GOMERY ST|                  0|       1111|           C|                   T|                      NULL|                NULL|              NULL|         NULL|                 NULL|        2012|        NULL|             0|               NULL|\n",
            "|    4042039625| LSG3024|                PA|       PAS|01/02/2025|             5|              SDN|       INFIN|             V|           0|           0|           0|                      0|              NULL|                 0|              0|          0|          NULL|        NULL|         0811A|               NULL|              QN|                             NULL|        NULL|SB MERRICK BLVD @ BA|         ISLEY BLVD|                  0|       1111|           C|                   T|                      NULL|                NULL|              NULL|         NULL|                 NULL|        2018|        NULL|             0|               NULL|\n",
            "|    4042039637| LAP5753|                NY|       PAS|01/02/2025|             5|             SUBN|       HONDA|             V|           0|           0|           0|                      0|              NULL|                 0|              0|          0|          NULL|        NULL|         0812A|               NULL|              MN|                             NULL|        NULL|EB W 181ST ST @ WADS|          WORTH AVE|                  0|       1111|           C|                   T|                      NULL|                NULL|              NULL|         LTBK|                 NULL|        2019|        NULL|             0|               NULL|\n",
            "|    4042039649| LFM6699|                NY|       PAS|01/02/2025|             5|             SUBN|        JEEP|             V|           0|           0|           0|                      0|              NULL|                 0|              0|          0|          NULL|        NULL|         0813A|               NULL|              BK|                             NULL|        NULL|NB SMITH ST @ FULTON|               MALL|                  0|       1111|           C|                   T|                      NULL|                NULL|              NULL|           BK|                 NULL|        2024|        NULL|             0|               NULL|\n",
            "|    4042039650| DNW2856|                NY|       PAS|01/02/2025|             5|             SUBN|       NISSA|             V|           0|           0|           0|                      0|              NULL|                 0|              0|          0|          NULL|        NULL|         0813A|               NULL|              BK|                             NULL|        NULL|SB NOSTRAND AVE @ EA|         STERN PKWY|                  0|       1111|           C|                   T|                      NULL|                NULL|              NULL|           BK|                 NULL|        2005|        NULL|             0|               NULL|\n",
            "|    4042039662| JPL1592|                NY|       PAS|01/02/2025|             5|             SUBN|       HYUND|             V|           0|           0|           0|                      0|              NULL|                 0|              0|          0|          NULL|        NULL|         0814A|               NULL|              QN|                             NULL|        NULL|SB MERRICK BLVD @ BA|         ISLEY BLVD|                  0|       1111|           C|                   T|                      NULL|                NULL|              NULL|           GY|                 NULL|        2022|        NULL|             0|               NULL|\n",
            "|    4042039674| KYN5423|                NY|       PAS|01/02/2025|             5|             SUBN|       HONDA|             V|           0|           0|           0|                      0|              NULL|                 0|              0|          0|          NULL|        NULL|         0815A|               NULL|              ST|                             NULL|        NULL|NB HYLAN BLVD @ MIDL|            AND AVE|                  0|       1111|           C|                   T|                      NULL|                NULL|              NULL|           BL|                 NULL|        2009|        NULL|             0|               NULL|\n",
            "|    4042039686| 565202T|                TN|       PAS|01/02/2025|             5|             NULL|        LANL|             V|           0|           0|           0|                      0|              NULL|                 0|              0|          0|          NULL|        NULL|         0816A|               NULL|              BK|                             NULL|        NULL|WB FULTON ST @ LAWRE|             NCE ST|                  0|       1111|           C|                   T|                      NULL|                NULL|              NULL|         NULL|                 NULL|        2025|        NULL|             0|               NULL|\n",
            "+--------------+--------+------------------+----------+----------+--------------+-----------------+------------+--------------+------------+------------+------------+-----------------------+------------------+------------------+---------------+-----------+--------------+------------+--------------+-------------------+----------------+---------------------------------+------------+--------------------+-------------------+-------------------+-----------+------------+--------------------+--------------------------+--------------------+------------------+-------------+---------------------+------------+------------+--------------+-------------------+\n",
            "only showing top 20 rows\n",
            "\n"
          ]
        }
      ],
      "source": [
        "df.show()"
      ]
    },
    {
      "cell_type": "code",
      "source": [
        "df2.show()"
      ],
      "metadata": {
        "colab": {
          "base_uri": "https://localhost:8080/"
        },
        "id": "k64rQ6OoXPO8",
        "outputId": "6a4950cc-ce22-49be-b163-d49688f8f8e6"
      },
      "execution_count": 195,
      "outputs": [
        {
          "output_type": "stream",
          "name": "stdout",
          "text": [
            "+--------------+---------------------+---------------+------------+\n",
            "|VIOLATION CODE|VIOLATION DESCRIPTION|Manhattan_FineA|Others_FineA|\n",
            "+--------------+---------------------+---------------+------------+\n",
            "|             1| FAILURE TO DISPLA...|            515|         515|\n",
            "|             2| NO OPERATOR NAM/A...|            515|         515|\n",
            "|             3| UNAUTHORIZED PASS...|            515|         515|\n",
            "|             4| BUS PARKING IN LO...|            115|         115|\n",
            "|             5|   BUS LANE VIOLATION|             50|          50|\n",
            "|             6| OVERNIGHT TRACTOR...|            265|         265|\n",
            "|             7| FAILURE TO STOP A...|             50|          50|\n",
            "|             8|               IDLING|            115|         115|\n",
            "|             9| OBSTRUCTING TRAFF...|            115|         115|\n",
            "|            10| NO STOPPING-DAY/T...|            115|         115|\n",
            "|            11| NO STANDING-HOTEL...|            115|         115|\n",
            "|            12| MOBILE BUS LANE V...|             50|          50|\n",
            "|            13| NO STANDING-TAXI ...|            115|         115|\n",
            "|            14| NO STANDING-DAY/T...|            115|         115|\n",
            "|            15| NO STANDING-OFF-S...|            115|         115|\n",
            "|            16| NO STANDING-EXC. ...|             95|          95|\n",
            "|            17| NO STANDING-EXC. ...|             95|          95|\n",
            "|            18| NO STANDING-BUS LANE|            115|         115|\n",
            "|            19| NO STANDING-BUS STOP|            115|         115|\n",
            "|            20| NO PARKING-DAY/TI...|             65|          60|\n",
            "+--------------+---------------------+---------------+------------+\n",
            "only showing top 20 rows\n",
            "\n"
          ]
        }
      ]
    },
    {
      "cell_type": "code",
      "execution_count": 174,
      "metadata": {
        "colab": {
          "base_uri": "https://localhost:8080/"
        },
        "id": "YaNWNLIkeov9",
        "outputId": "3945f535-9855-43b0-8f54-94e875acd19e"
      },
      "outputs": [
        {
          "output_type": "stream",
          "name": "stdout",
          "text": [
            "root\n",
            " |-- Summons Number: long (nullable = true)\n",
            " |-- Plate ID: string (nullable = true)\n",
            " |-- Registration State: string (nullable = true)\n",
            " |-- Plate Type: string (nullable = true)\n",
            " |-- Issue Date: string (nullable = true)\n",
            " |-- Violation Code: integer (nullable = true)\n",
            " |-- Vehicle Body Type: string (nullable = true)\n",
            " |-- Vehicle Make: string (nullable = true)\n",
            " |-- Issuing Agency: string (nullable = true)\n",
            " |-- Street Code1: integer (nullable = true)\n",
            " |-- Street Code2: integer (nullable = true)\n",
            " |-- Street Code3: integer (nullable = true)\n",
            " |-- Vehicle Expiration Date: integer (nullable = true)\n",
            " |-- Violation Location: integer (nullable = true)\n",
            " |-- Violation Precinct: integer (nullable = true)\n",
            " |-- Issuer Precinct: integer (nullable = true)\n",
            " |-- Issuer Code: integer (nullable = true)\n",
            " |-- Issuer Command: string (nullable = true)\n",
            " |-- Issuer Squad: string (nullable = true)\n",
            " |-- Violation Time: string (nullable = true)\n",
            " |-- Time First Observed: string (nullable = true)\n",
            " |-- Violation County: string (nullable = true)\n",
            " |-- Violation In Front Of Or Opposite: string (nullable = true)\n",
            " |-- House Number: string (nullable = true)\n",
            " |-- Street Name: string (nullable = true)\n",
            " |-- Intersecting Street: string (nullable = true)\n",
            " |-- Date First Observed: integer (nullable = true)\n",
            " |-- Law Section: integer (nullable = true)\n",
            " |-- Sub Division: string (nullable = true)\n",
            " |-- Violation Legal Code: string (nullable = true)\n",
            " |-- Days Parking In Effect    : string (nullable = true)\n",
            " |-- From Hours In Effect: string (nullable = true)\n",
            " |-- To Hours In Effect: string (nullable = true)\n",
            " |-- Vehicle Color: string (nullable = true)\n",
            " |-- Unregistered Vehicle?: string (nullable = true)\n",
            " |-- Vehicle Year: integer (nullable = true)\n",
            " |-- Meter Number: string (nullable = true)\n",
            " |-- Feet From Curb: integer (nullable = true)\n",
            " |-- Violation Post Code: string (nullable = true)\n",
            "\n"
          ]
        }
      ],
      "source": [
        "df.printSchema()"
      ]
    },
    {
      "cell_type": "code",
      "source": [
        "df2.printSchema()"
      ],
      "metadata": {
        "colab": {
          "base_uri": "https://localhost:8080/"
        },
        "id": "GiO8zmLfufmA",
        "outputId": "56ea03ae-e091-4e85-c7a2-5e1a129c9bb7"
      },
      "execution_count": 196,
      "outputs": [
        {
          "output_type": "stream",
          "name": "stdout",
          "text": [
            "root\n",
            " |-- VIOLATION CODE: integer (nullable = true)\n",
            " |-- VIOLATION DESCRIPTION: string (nullable = true)\n",
            " |-- Manhattan_FineA: integer (nullable = true)\n",
            " |-- Others_FineA: integer (nullable = true)\n",
            "\n"
          ]
        }
      ]
    },
    {
      "cell_type": "code",
      "execution_count": 62,
      "metadata": {
        "colab": {
          "base_uri": "https://localhost:8080/"
        },
        "id": "LY_hcs6fe2am",
        "outputId": "a2eeda95-2df2-4549-ead9-358ff9fd4b54"
      },
      "outputs": [
        {
          "output_type": "execute_result",
          "data": {
            "text/plain": [
              "3532970"
            ]
          },
          "metadata": {},
          "execution_count": 62
        }
      ],
      "source": [
        "df.count()"
      ]
    },
    {
      "cell_type": "code",
      "execution_count": 202,
      "metadata": {
        "id": "xao_YdschjPC"
      },
      "outputs": [],
      "source": [
        "#Update the structure of the data\n",
        "schema = StructType([\n",
        "    StructField('Summons Number', LongType(), True),\n",
        "    StructField('Plate ID', StringType(), True),\n",
        "    StructField('Registration State', StringType(), True),\n",
        "    StructField('Plate Type', StringType(), True),\n",
        "    StructField('Issue Date', StringType(), True),\n",
        "    StructField('Violation Code', IntegerType(), True),\n",
        "    StructField('Vehicle Body Type', StringType(), True),\n",
        "    StructField('Vehicle Make', StringType(), True),\n",
        "    StructField('Issuing Agency', StringType(), True),\n",
        "    StructField('Street Code1', IntegerType(), True),\n",
        "    StructField('Street Code2', IntegerType(), True),\n",
        "    StructField('Street Code3', IntegerType(), True),\n",
        "    StructField('Vehicle Expiration Date', IntegerType(), True),\n",
        "    StructField('Violation Location', StringType(), True),\n",
        "    StructField('Violation Precinct', IntegerType(), True),\n",
        "    StructField('Issuer Precinct', IntegerType(), True),\n",
        "    StructField('Issuer Code', IntegerType(), True),\n",
        "    StructField('Issuer Command', StringType(), True),\n",
        "    StructField('Issuer Squad', StringType(), True),\n",
        "    StructField('Violation Time', StringType(), True),\n",
        "    StructField('Time First Observed', StringType(), True),\n",
        "    StructField('Violation County', StringType(), True),\n",
        "    StructField('Violation In Front Of Or Opposite', StringType(), True),\n",
        "    StructField('House Number', StringType(), True),\n",
        "    StructField('Street Name', StringType(), True),\n",
        "    StructField('Intersecting Street', StringType(), True),\n",
        "    StructField('Date First Observed', IntegerType(), True),\n",
        "    StructField('Law Section', IntegerType(), True),\n",
        "    StructField('Sub Division', StringType(), True),\n",
        "    StructField('Violation Legal Code', StringType(), True),\n",
        "    StructField('Days Parking In Effect    ', StringType(), True),\n",
        "    StructField('From Hours In Effect', StringType(), True),\n",
        "    StructField('To Hours In Effect', StringType(), True),\n",
        "    StructField('Vehicle Color', StringType(), True),\n",
        "    StructField('Unregistered Vehicle?:', StringType(), True),\n",
        "    StructField('Vehicle Year', StringType(), True),\n",
        "    StructField('Meter Number', StringType(), True),\n",
        "    StructField('Feet From Curb', StringType(), True),\n",
        "    StructField('Violation Post Code', StringType(), True)\n",
        "\n",
        "])"
      ]
    },
    {
      "cell_type": "code",
      "source": [
        "#Update the structure of the data\n",
        "schema2 = StructType([\n",
        "    StructField('VIOLATION CODE', IntegerType(), True),\n",
        "    StructField('VIOLATION DESCRIPTION', StringType(), True),\n",
        "    StructField('Manhattan_FineA', IntegerType(), True),\n",
        "    StructField('Others_FineA', IntegerType(), True)\n",
        "\n",
        "])\n"
      ],
      "metadata": {
        "id": "aHsjtIOjumWf"
      },
      "execution_count": 237,
      "outputs": []
    },
    {
      "cell_type": "code",
      "execution_count": 203,
      "metadata": {
        "id": "8_bhxL8FyMc7"
      },
      "outputs": [],
      "source": [
        "#update the dataframe with the structure\n",
        "df = spark.read.csv('/content/sample_data/nyc_parking_tickets/*.csv', header=True, schema=schema)\n"
      ]
    },
    {
      "cell_type": "code",
      "source": [
        "#Update the columns name\n",
        "for col in df.columns:\n",
        "    df = df.withColumnRenamed(col, col.lower().replace(' ', '_').replace('-', '_'))"
      ],
      "metadata": {
        "id": "3YTKZnCBzi-U"
      },
      "execution_count": 204,
      "outputs": []
    },
    {
      "cell_type": "code",
      "source": [
        "for col in df2.columns:\n",
        "    df2 = df2.withColumnRenamed(col, col.lower().replace(' ', '_').replace('-', '_'))"
      ],
      "metadata": {
        "id": "I-0vguS9rfEN"
      },
      "execution_count": 201,
      "outputs": []
    },
    {
      "cell_type": "code",
      "execution_count": 235,
      "metadata": {
        "colab": {
          "base_uri": "https://localhost:8080/"
        },
        "id": "RhaE91Lixprn",
        "outputId": "1bb035a7-dcf6-4d5a-ccf3-47781272eec0"
      },
      "outputs": [
        {
          "output_type": "stream",
          "name": "stdout",
          "text": [
            "+--------------+--------+------------------+----------+--------------+-----------------+------------+--------------+------------+------------+------------+-----------------------+------------------+------------------+---------------+-----------+--------------+------------+--------------+-------------------+----------------+---------------------------------+------------+--------------------+-------------------+-------------------+-----------+------------+--------------------+--------------------------+--------------------+------------------+-------------+----------------------+------------+------------+--------------+-------------------+-------------------+----------------+------------------+\n",
            "|summons_number|plate_id|registration_state|plate_type|violation_code|vehicle_body_type|vehicle_make|issuing_agency|street_code1|street_code2|street_code3|vehicle_expiration_date|violation_location|violation_precinct|issuer_precinct|issuer_code|issuer_command|issuer_squad|violation_time|time_first_observed|violation_county|violation_in_front_of_or_opposite|house_number|         street_name|intersecting_street|date_first_observed|law_section|sub_division|violation_legal_code|days_parking_in_effect____|from_hours_in_effect|to_hours_in_effect|vehicle_color|unregistered_vehicle?:|vehicle_year|meter_number|feet_from_curb|violation_post_code|         issue_date|Month_Issue_Date|violation_day_time|\n",
            "+--------------+--------+------------------+----------+--------------+-----------------+------------+--------------+------------+------------+------------+-----------------------+------------------+------------------+---------------+-----------+--------------+------------+--------------+-------------------+----------------+---------------------------------+------------+--------------------+-------------------+-------------------+-----------+------------+--------------------+--------------------------+--------------------+------------------+-------------+----------------------+------------+------------+--------------+-------------------+-------------------+----------------+------------------+\n",
            "|    1492814167| JEA3777|                NY|       PAS|            20|             TAXI|       VOLVO|             P|           0|       40404|       40404|               20250102|              0088|                88|            803|     950192|          0803|        0000|         0621P|               NULL|               K|                                F|         125|      NORTH PORTLAND|               NULL|                  0|        408|          F1|                NULL|                   BBBBBBB|                 ALL|               ALL|          BLK|                     0|        2011|           -|             0|               NULL|2025-01-02 00:00:00|               1|         Afternoon|\n",
            "|    4042039145| KKA8982|                NY|       PAS|             5|             4DSD|       HYUND|             V|           0|           0|           0|                      0|              NULL|                 0|              0|          0|          NULL|        NULL|         0702A|               NULL|              BK|                             NULL|        NULL|WB CHURCH AVE @ E 8T|               H ST|                  0|       1111|           C|                   T|                      NULL|                NULL|              NULL|           RD|                  NULL|        2020|        NULL|             0|               NULL|2025-01-02 00:00:00|               1|           Morning|\n",
            "|    4042039510| MSA3480|                PA|       PAS|             5|               CP|         BMW|             V|           0|           0|           0|                      0|              NULL|                 0|              0|          0|          NULL|        NULL|         0757A|               NULL|              QN|                             NULL|        NULL|EB JAMAICA AVE @ SUT|          PHIN BLVD|                  0|       1111|           C|                   T|                      NULL|                NULL|              NULL|         NULL|                  NULL|        2021|        NULL|             0|               NULL|2025-01-02 00:00:00|               1|           Morning|\n",
            "|    4042039522| 63383NA|                NY|       COM|             5|              VAN|       CHEVR|             V|           0|           0|           0|                      0|              NULL|                 0|              0|          0|          NULL|        NULL|         0758A|               NULL|              BK|                             NULL|        NULL|WB FULTON ST @ LAWRE|             NCE ST|                  0|       1111|           C|                   T|                      NULL|                NULL|              NULL|           WH|                  NULL|        2020|        NULL|             0|               NULL|2025-01-02 00:00:00|               1|           Morning|\n",
            "|    4042039534| 63383NA|                NY|       COM|             5|              VAN|       CHEVR|             V|           0|           0|           0|                      0|              NULL|                 0|              0|          0|          NULL|        NULL|         0758A|               NULL|              BK|                             NULL|        NULL|WB FULTON ST @ LAWRE|             NCE ST|                  0|       1111|           C|                   T|                      NULL|                NULL|              NULL|           WH|                  NULL|        2020|        NULL|             0|               NULL|2025-01-02 00:00:00|               1|           Morning|\n",
            "|    4042039546| LWL6395|                PA|       PAS|             5|              SDN|       LEXUS|             V|           0|           0|           0|                      0|              NULL|                 0|              0|          0|          NULL|        NULL|         0759A|               NULL|              BK|                             NULL|        NULL|NB ROGERS AVE @ MONT|          GOMERY ST|                  0|       1111|           C|                   T|                      NULL|                NULL|              NULL|         NULL|                  NULL|        2019|        NULL|             0|               NULL|2025-01-02 00:00:00|               1|           Morning|\n",
            "|    4042039558| 22312NE|                NY|       COM|             5|             DELV|       FRUEH|             V|           0|           0|           0|                      0|              NULL|                 0|              0|          0|          NULL|        NULL|         0759A|               NULL|              BK|                             NULL|        NULL|EB CHURCH AVE @ CONE|       Y ISLAND AVE|                  0|       1111|           C|                   T|                      NULL|                NULL|              NULL|           GR|                  NULL|        2024|        NULL|             0|               NULL|2025-01-02 00:00:00|               1|           Morning|\n",
            "|    4042039560|T131642C|                NY|       OMT|             5|             SUBN|       TOYOT|             V|           0|           0|           0|                      0|              NULL|                 0|              0|          0|          NULL|        NULL|         0804A|               NULL|              QN|                             NULL|        NULL| NB WOODHAVEN BLVD @|           97TH AVE|                  0|       1111|           C|                   T|                      NULL|                NULL|              NULL|           GY|                  NULL|        2023|        NULL|             0|               NULL|2025-01-02 00:00:00|               1|           Morning|\n",
            "|    4042039571| TKT1742|                TX|       PAS|             5|               LL|       TOYOT|             V|           0|           0|           0|                      0|              NULL|                 0|              0|          0|          NULL|        NULL|         0806A|               NULL|              BX|                             NULL|        NULL|SB WEBSTER AVE @ E 1|            94TH ST|                  0|       1111|           C|                   T|                      NULL|                NULL|              NULL|         NULL|                  NULL|        2011|        NULL|             0|               NULL|2025-01-02 00:00:00|               1|           Morning|\n",
            "|    4042039583|T799929C|                NY|       OMT|             5|             4DSD|       TOYOT|             V|           0|           0|           0|                      0|              NULL|                 0|              0|          0|          NULL|        NULL|         0806A|               NULL|              BK|                             NULL|        NULL|WB KINGS HIGHWAY @ E|            37TH ST|                  0|       1111|           C|                   T|                      NULL|                NULL|              NULL|           BK|                  NULL|        2015|        NULL|             0|               NULL|2025-01-02 00:00:00|               1|           Morning|\n",
            "|    4042039595| KLA7363|                NY|       PAS|             5|             SUBN|       TOYOT|             V|           0|           0|           0|                      0|              NULL|                 0|              0|          0|          NULL|        NULL|         0807A|               NULL|              QN|                             NULL|        NULL|SB MAIN ST @ SANFORD|                AVE|                  0|       1111|           C|                   T|                      NULL|                NULL|              NULL|           GY|                  NULL|        2018|        NULL|             0|               NULL|2025-01-02 00:00:00|               1|           Morning|\n",
            "|    4042039601| LJP3596|                NY|       PAS|             5|             PICK|       NISSA|             V|           0|           0|           0|                      0|              NULL|                 0|              0|          0|          NULL|        NULL|         0810A|               NULL|              QN|                             NULL|        NULL|WB JAMAICA AVE @ 168|              TH ST|                  0|       1111|           C|                   T|                      NULL|                NULL|              NULL|           GY|                  NULL|        2023|        NULL|             0|               NULL|2025-01-02 00:00:00|               1|           Morning|\n",
            "|    4042039613|  M98RUH|                NJ|       PAS|             5|             SEDA|       HONDA|             V|           0|           0|           0|                      0|              NULL|                 0|              0|          0|          NULL|        NULL|         0810A|               NULL|              BK|                             NULL|        NULL|NB ROGERS AVE @ MONT|          GOMERY ST|                  0|       1111|           C|                   T|                      NULL|                NULL|              NULL|         NULL|                  NULL|        2012|        NULL|             0|               NULL|2025-01-02 00:00:00|               1|           Morning|\n",
            "|    4042039625| LSG3024|                PA|       PAS|             5|              SDN|       INFIN|             V|           0|           0|           0|                      0|              NULL|                 0|              0|          0|          NULL|        NULL|         0811A|               NULL|              QN|                             NULL|        NULL|SB MERRICK BLVD @ BA|         ISLEY BLVD|                  0|       1111|           C|                   T|                      NULL|                NULL|              NULL|         NULL|                  NULL|        2018|        NULL|             0|               NULL|2025-01-02 00:00:00|               1|           Morning|\n",
            "|    4042039637| LAP5753|                NY|       PAS|             5|             SUBN|       HONDA|             V|           0|           0|           0|                      0|              NULL|                 0|              0|          0|          NULL|        NULL|         0812A|               NULL|              MN|                             NULL|        NULL|EB W 181ST ST @ WADS|          WORTH AVE|                  0|       1111|           C|                   T|                      NULL|                NULL|              NULL|         LTBK|                  NULL|        2019|        NULL|             0|               NULL|2025-01-02 00:00:00|               1|           Morning|\n",
            "|    4042039649| LFM6699|                NY|       PAS|             5|             SUBN|        JEEP|             V|           0|           0|           0|                      0|              NULL|                 0|              0|          0|          NULL|        NULL|         0813A|               NULL|              BK|                             NULL|        NULL|NB SMITH ST @ FULTON|               MALL|                  0|       1111|           C|                   T|                      NULL|                NULL|              NULL|           BK|                  NULL|        2024|        NULL|             0|               NULL|2025-01-02 00:00:00|               1|           Morning|\n",
            "|    4042039650| DNW2856|                NY|       PAS|             5|             SUBN|       NISSA|             V|           0|           0|           0|                      0|              NULL|                 0|              0|          0|          NULL|        NULL|         0813A|               NULL|              BK|                             NULL|        NULL|SB NOSTRAND AVE @ EA|         STERN PKWY|                  0|       1111|           C|                   T|                      NULL|                NULL|              NULL|           BK|                  NULL|        2005|        NULL|             0|               NULL|2025-01-02 00:00:00|               1|           Morning|\n",
            "|    4042039662| JPL1592|                NY|       PAS|             5|             SUBN|       HYUND|             V|           0|           0|           0|                      0|              NULL|                 0|              0|          0|          NULL|        NULL|         0814A|               NULL|              QN|                             NULL|        NULL|SB MERRICK BLVD @ BA|         ISLEY BLVD|                  0|       1111|           C|                   T|                      NULL|                NULL|              NULL|           GY|                  NULL|        2022|        NULL|             0|               NULL|2025-01-02 00:00:00|               1|           Morning|\n",
            "|    4042039674| KYN5423|                NY|       PAS|             5|             SUBN|       HONDA|             V|           0|           0|           0|                      0|              NULL|                 0|              0|          0|          NULL|        NULL|         0815A|               NULL|              ST|                             NULL|        NULL|NB HYLAN BLVD @ MIDL|            AND AVE|                  0|       1111|           C|                   T|                      NULL|                NULL|              NULL|           BL|                  NULL|        2009|        NULL|             0|               NULL|2025-01-02 00:00:00|               1|           Morning|\n",
            "|    4042039686| 565202T|                TN|       PAS|             5|             NULL|        LANL|             V|           0|           0|           0|                      0|              NULL|                 0|              0|          0|          NULL|        NULL|         0816A|               NULL|              BK|                             NULL|        NULL|WB FULTON ST @ LAWRE|             NCE ST|                  0|       1111|           C|                   T|                      NULL|                NULL|              NULL|         NULL|                  NULL|        2025|        NULL|             0|               NULL|2025-01-02 00:00:00|               1|           Morning|\n",
            "+--------------+--------+------------------+----------+--------------+-----------------+------------+--------------+------------+------------+------------+-----------------------+------------------+------------------+---------------+-----------+--------------+------------+--------------+-------------------+----------------+---------------------------------+------------+--------------------+-------------------+-------------------+-----------+------------+--------------------+--------------------------+--------------------+------------------+-------------+----------------------+------------+------------+--------------+-------------------+-------------------+----------------+------------------+\n",
            "only showing top 20 rows\n",
            "\n"
          ]
        }
      ],
      "source": [
        "df.show()"
      ]
    },
    {
      "cell_type": "code",
      "source": [
        "df2.show()"
      ],
      "metadata": {
        "colab": {
          "base_uri": "https://localhost:8080/"
        },
        "id": "3kXwFwVsrlSa",
        "outputId": "05e91ce8-332c-4e6a-f21d-900696c95267"
      },
      "execution_count": 236,
      "outputs": [
        {
          "output_type": "stream",
          "name": "stdout",
          "text": [
            "+--------------+---------------------+---------------+------------+\n",
            "|violation_code|violation_description|manhattan_finea|others_finea|\n",
            "+--------------+---------------------+---------------+------------+\n",
            "|             1| FAILURE TO DISPLA...|            515|         515|\n",
            "|             2| NO OPERATOR NAM/A...|            515|         515|\n",
            "|             3| UNAUTHORIZED PASS...|            515|         515|\n",
            "|             4| BUS PARKING IN LO...|            115|         115|\n",
            "|             5|   BUS LANE VIOLATION|             50|          50|\n",
            "|             6| OVERNIGHT TRACTOR...|            265|         265|\n",
            "|             7| FAILURE TO STOP A...|             50|          50|\n",
            "|             8|               IDLING|            115|         115|\n",
            "|             9| OBSTRUCTING TRAFF...|            115|         115|\n",
            "|            10| NO STOPPING-DAY/T...|            115|         115|\n",
            "|            11| NO STANDING-HOTEL...|            115|         115|\n",
            "|            12| MOBILE BUS LANE V...|             50|          50|\n",
            "|            13| NO STANDING-TAXI ...|            115|         115|\n",
            "|            14| NO STANDING-DAY/T...|            115|         115|\n",
            "|            15| NO STANDING-OFF-S...|            115|         115|\n",
            "|            16| NO STANDING-EXC. ...|             95|          95|\n",
            "|            17| NO STANDING-EXC. ...|             95|          95|\n",
            "|            18| NO STANDING-BUS LANE|            115|         115|\n",
            "|            19| NO STANDING-BUS STOP|            115|         115|\n",
            "|            20| NO PARKING-DAY/TI...|             65|          60|\n",
            "+--------------+---------------------+---------------+------------+\n",
            "only showing top 20 rows\n",
            "\n"
          ]
        }
      ]
    },
    {
      "cell_type": "code",
      "execution_count": 207,
      "metadata": {
        "colab": {
          "base_uri": "https://localhost:8080/"
        },
        "id": "HJIFQSSpxtMn",
        "outputId": "52c34214-a452-40b5-872a-1d01ea80ae72"
      },
      "outputs": [
        {
          "output_type": "stream",
          "name": "stdout",
          "text": [
            "root\n",
            " |-- summons_number: long (nullable = true)\n",
            " |-- plate_id: string (nullable = true)\n",
            " |-- registration_state: string (nullable = true)\n",
            " |-- plate_type: string (nullable = true)\n",
            " |-- issue_date: string (nullable = true)\n",
            " |-- violation_code: integer (nullable = true)\n",
            " |-- vehicle_body_type: string (nullable = true)\n",
            " |-- vehicle_make: string (nullable = true)\n",
            " |-- issuing_agency: string (nullable = true)\n",
            " |-- street_code1: integer (nullable = true)\n",
            " |-- street_code2: integer (nullable = true)\n",
            " |-- street_code3: integer (nullable = true)\n",
            " |-- vehicle_expiration_date: integer (nullable = true)\n",
            " |-- violation_location: string (nullable = true)\n",
            " |-- violation_precinct: integer (nullable = true)\n",
            " |-- issuer_precinct: integer (nullable = true)\n",
            " |-- issuer_code: integer (nullable = true)\n",
            " |-- issuer_command: string (nullable = true)\n",
            " |-- issuer_squad: string (nullable = true)\n",
            " |-- violation_time: string (nullable = true)\n",
            " |-- time_first_observed: string (nullable = true)\n",
            " |-- violation_county: string (nullable = true)\n",
            " |-- violation_in_front_of_or_opposite: string (nullable = true)\n",
            " |-- house_number: string (nullable = true)\n",
            " |-- street_name: string (nullable = true)\n",
            " |-- intersecting_street: string (nullable = true)\n",
            " |-- date_first_observed: integer (nullable = true)\n",
            " |-- law_section: integer (nullable = true)\n",
            " |-- sub_division: string (nullable = true)\n",
            " |-- violation_legal_code: string (nullable = true)\n",
            " |-- days_parking_in_effect____: string (nullable = true)\n",
            " |-- from_hours_in_effect: string (nullable = true)\n",
            " |-- to_hours_in_effect: string (nullable = true)\n",
            " |-- vehicle_color: string (nullable = true)\n",
            " |-- unregistered_vehicle?:: string (nullable = true)\n",
            " |-- vehicle_year: string (nullable = true)\n",
            " |-- meter_number: string (nullable = true)\n",
            " |-- feet_from_curb: string (nullable = true)\n",
            " |-- violation_post_code: string (nullable = true)\n",
            "\n"
          ]
        }
      ],
      "source": [
        "#Review the schema of the data\n",
        "df.printSchema()"
      ]
    },
    {
      "cell_type": "code",
      "execution_count": 89,
      "metadata": {
        "colab": {
          "base_uri": "https://localhost:8080/"
        },
        "id": "b_2zpWEny5g7",
        "outputId": "8a486351-7b23-4ab3-9f78-a0a1448467f3"
      },
      "outputs": [
        {
          "output_type": "stream",
          "name": "stdout",
          "text": [
            "+-------+--------------------+--------+------------------+----------+----------+------------------+-------------------+------------------+------------------+------------------+------------------+------------------+-----------------------+------------------+------------------+------------------+------------------+------------------+--------------------+-----------------+-------------------+----------------+---------------------------------+--------------------+-----------------+-------------------+-------------------+-----------------+------------------+--------------------+--------------------------+--------------------+------------------+-------------+----------------------+------------------+------------------+-------------------+-------------------+\n",
            "|summary|      summons_number|plate_id|registration_state|plate_type|issue_date|    violation_code|  vehicle_body_type|      vehicle_make|    issuing_agency|      street_code1|      street_code2|      street_code3|vehicle_expiration_date|violation_location|violation_precinct|   issuer_precinct|       issuer_code|    issuer_command|        issuer_squad|   violation_time|time_first_observed|violation_county|violation_in_front_of_or_opposite|        house_number|      street_name|intersecting_street|date_first_observed|      law_section|      sub_division|violation_legal_code|days_parking_in_effect____|from_hours_in_effect|to_hours_in_effect|vehicle_color|unregistered_vehicle?:|      vehicle_year|      meter_number|     feet_from_curb|violation_post_code|\n",
            "+-------+--------------------+--------+------------------+----------+----------+------------------+-------------------+------------------+------------------+------------------+------------------+------------------+-----------------------+------------------+------------------+------------------+------------------+------------------+--------------------+-----------------+-------------------+----------------+---------------------------------+--------------------+-----------------+-------------------+-------------------+-----------------+------------------+--------------------+--------------------------+--------------------+------------------+-------------+----------------------+------------------+------------------+-------------------+-------------------+\n",
            "|  count|             3532970| 3532970|           3532970|   3532970|   3532970|           3532970|            3524889|           3530197|           3532970|           3532970|           3532970|           3532970|                3532970|           1958370|           3532970|           3532970|           3532970|           1960423|             1829243|          3532936|             207964|         3410061|                          1946580|             1935646|          3532733|            1852784|            3532970|          3532970|           3532628|             1572548|                   1925383|             1124879|           1124879|      3184077|                 51414|           3532970|            442465|            3532970|            1777840|\n",
            "|   mean| 6.957173747988805E9|Infinity|              99.0|     999.0|      NULL|33.233786587488716| 3.9090403974375736|              12.5| 5.394934976043806|17006.762434722063|14483.327633973682|14387.258115126933|    1.801167518489939E7| 55.66735652609057|30.857120496352927| 29.42591389114541|211929.58600497598|145.12335130382655|1.751961223258258...|            539.0| 0.6729654612693041|            NULL|                             NULL|7.445705912486151E73|237.5090909090909| 2027.0425531914893|  80101.51379179557| 679.165654675811| 79.21910112359551|                 0.0|                      NULL|   862.6315789473684| 636.8064516129032|         NULL|                   0.0|1665.6721424184184|245230.30935404616|0.07147753872803901|  25.66479588177887|\n",
            "| stddev|2.3497473043870754E9|     NaN|               0.0|       0.0|      NULL|18.217746834033548|0.44994086975347575|16.263455967290593|2.4849027045839125|21843.418305396986|20705.172174859294|20721.003317232175|   2.6050362430349074E7| 38.02552800879079|39.586307706215344|49.388736360070986|210716.63170390422|269.50264200016926|0.039708501620338545|806.6942419529223|  32.50540734433333|            NULL|                             NULL|8.628850394163835E76|668.0865677087528|  1788.261080995176| 1271083.8569911649|362.3220528070569|38.317017628966205|                NULL|                      NULL|  505.75402569126817|488.80210169725734|         NULL|                   0.0| 765.4941958825476|141829.06653680833|  0.607065052106158|  25.69414669867009|\n",
            "|    min|          1154851904|   $AINT|                99|       999|01/02/2025|                 0|                 00|                 .|                 1|                 0|                 0|                 0|                      0|              0001|                 0|                 0|                 0|              .116|                0000|            -1015|              00000|              BK|                                F|                .280|            1 AVE|     & 101st Street|                  0|                0|                11|                   0|                   BBBBBBA|                0000|              0000|            .|                     -|                 0|                 -|                  0|                001|\n",
            "|    max|          9196360641|       ]|                WY|       WUG|04/23/2025|                99|                 YY|                ``|                 Y|             97950|             98310|             98280|               88888888|               809|               809|               997|            999811|              V97G|                   Z|             709P|              2359P|              ST|                                X|                ZERO|       Zwicky Ave|              zl St|           20260115|             1180|                o3|                   T|                   YYYYYYY|               LL  A|                LL|        Yello|                     0|              2069|                 N|                  9|                  Z|\n",
            "+-------+--------------------+--------+------------------+----------+----------+------------------+-------------------+------------------+------------------+------------------+------------------+------------------+-----------------------+------------------+------------------+------------------+------------------+------------------+--------------------+-----------------+-------------------+----------------+---------------------------------+--------------------+-----------------+-------------------+-------------------+-----------------+------------------+--------------------+--------------------------+--------------------+------------------+-------------+----------------------+------------------+------------------+-------------------+-------------------+\n",
            "\n"
          ]
        }
      ],
      "source": [
        "df.describe().show()"
      ]
    },
    {
      "cell_type": "code",
      "source": [
        "df = df.dropDuplicates()"
      ],
      "metadata": {
        "id": "itJmmBdKSB0G"
      },
      "execution_count": 90,
      "outputs": []
    },
    {
      "cell_type": "markdown",
      "source": [
        "No duplicate values found"
      ],
      "metadata": {
        "id": "8a6JpEX9lFFC"
      }
    },
    {
      "cell_type": "code",
      "source": [
        "df.count()"
      ],
      "metadata": {
        "colab": {
          "base_uri": "https://localhost:8080/"
        },
        "id": "yzj8URhde2kn",
        "outputId": "273b6caf-1a30-4977-a7e8-106589acd7bf"
      },
      "execution_count": 91,
      "outputs": [
        {
          "output_type": "execute_result",
          "data": {
            "text/plain": [
              "3532970"
            ]
          },
          "metadata": {},
          "execution_count": 91
        }
      ]
    },
    {
      "cell_type": "code",
      "source": [
        "df = df.withColumn('issue_date2', F.to_timestamp('issue_date', 'MM/dd/yyyy')).drop('issue_date')"
      ],
      "metadata": {
        "id": "9fqYoXsCrdQB"
      },
      "execution_count": 208,
      "outputs": []
    },
    {
      "cell_type": "code",
      "source": [
        "df = df.withColumnRenamed('issue_date2', 'issue_date')"
      ],
      "metadata": {
        "id": "2Hhcp4WRzxYj"
      },
      "execution_count": 209,
      "outputs": []
    },
    {
      "cell_type": "code",
      "source": [
        "df.show()"
      ],
      "metadata": {
        "colab": {
          "base_uri": "https://localhost:8080/"
        },
        "id": "gn_a1upqlNKt",
        "outputId": "d346bd16-6f69-4fce-c85c-195d604fd41c"
      },
      "execution_count": 113,
      "outputs": [
        {
          "output_type": "stream",
          "name": "stdout",
          "text": [
            "+--------------+--------+------------------+----------+--------------+-----------------+------------+--------------+------------+------------+------------+-----------------------+------------------+------------------+---------------+-----------+--------------+------------+--------------+-------------------+----------------+---------------------------------+------------+--------------------+-------------------+-------------------+-----------+------------+--------------------+--------------------------+--------------------+------------------+-------------+----------------------+------------+------------+--------------+-------------------+-------------------+\n",
            "|summons_number|plate_id|registration_state|plate_type|violation_code|vehicle_body_type|vehicle_make|issuing_agency|street_code1|street_code2|street_code3|vehicle_expiration_date|violation_location|violation_precinct|issuer_precinct|issuer_code|issuer_command|issuer_squad|violation_time|time_first_observed|violation_county|violation_in_front_of_or_opposite|house_number|         street_name|intersecting_street|date_first_observed|law_section|sub_division|violation_legal_code|days_parking_in_effect____|from_hours_in_effect|to_hours_in_effect|vehicle_color|unregistered_vehicle?:|vehicle_year|meter_number|feet_from_curb|violation_post_code|         issue_date|\n",
            "+--------------+--------+------------------+----------+--------------+-----------------+------------+--------------+------------+------------+------------+-----------------------+------------------+------------------+---------------+-----------+--------------+------------+--------------+-------------------+----------------+---------------------------------+------------+--------------------+-------------------+-------------------+-----------+------------+--------------------+--------------------------+--------------------+------------------+-------------+----------------------+------------+------------+--------------+-------------------+-------------------+\n",
            "|    1492814167| JEA3777|                NY|       PAS|            20|             TAXI|       VOLVO|             P|           0|       40404|       40404|               20250102|              0088|                88|            803|     950192|          0803|        0000|         0621P|               NULL|               K|                                F|         125|      NORTH PORTLAND|               NULL|                  0|        408|          F1|                NULL|                   BBBBBBB|                 ALL|               ALL|          BLK|                     0|        2011|           -|             0|               NULL|2025-01-02 00:00:00|\n",
            "|    4042039145| KKA8982|                NY|       PAS|             5|             4DSD|       HYUND|             V|           0|           0|           0|                      0|              NULL|                 0|              0|          0|          NULL|        NULL|         0702A|               NULL|              BK|                             NULL|        NULL|WB CHURCH AVE @ E 8T|               H ST|                  0|       1111|           C|                   T|                      NULL|                NULL|              NULL|           RD|                  NULL|        2020|        NULL|             0|               NULL|2025-01-02 00:00:00|\n",
            "|    4042039510| MSA3480|                PA|       PAS|             5|               CP|         BMW|             V|           0|           0|           0|                      0|              NULL|                 0|              0|          0|          NULL|        NULL|         0757A|               NULL|              QN|                             NULL|        NULL|EB JAMAICA AVE @ SUT|          PHIN BLVD|                  0|       1111|           C|                   T|                      NULL|                NULL|              NULL|         NULL|                  NULL|        2021|        NULL|             0|               NULL|2025-01-02 00:00:00|\n",
            "|    4042039522| 63383NA|                NY|       COM|             5|              VAN|       CHEVR|             V|           0|           0|           0|                      0|              NULL|                 0|              0|          0|          NULL|        NULL|         0758A|               NULL|              BK|                             NULL|        NULL|WB FULTON ST @ LAWRE|             NCE ST|                  0|       1111|           C|                   T|                      NULL|                NULL|              NULL|           WH|                  NULL|        2020|        NULL|             0|               NULL|2025-01-02 00:00:00|\n",
            "|    4042039534| 63383NA|                NY|       COM|             5|              VAN|       CHEVR|             V|           0|           0|           0|                      0|              NULL|                 0|              0|          0|          NULL|        NULL|         0758A|               NULL|              BK|                             NULL|        NULL|WB FULTON ST @ LAWRE|             NCE ST|                  0|       1111|           C|                   T|                      NULL|                NULL|              NULL|           WH|                  NULL|        2020|        NULL|             0|               NULL|2025-01-02 00:00:00|\n",
            "|    4042039546| LWL6395|                PA|       PAS|             5|              SDN|       LEXUS|             V|           0|           0|           0|                      0|              NULL|                 0|              0|          0|          NULL|        NULL|         0759A|               NULL|              BK|                             NULL|        NULL|NB ROGERS AVE @ MONT|          GOMERY ST|                  0|       1111|           C|                   T|                      NULL|                NULL|              NULL|         NULL|                  NULL|        2019|        NULL|             0|               NULL|2025-01-02 00:00:00|\n",
            "|    4042039558| 22312NE|                NY|       COM|             5|             DELV|       FRUEH|             V|           0|           0|           0|                      0|              NULL|                 0|              0|          0|          NULL|        NULL|         0759A|               NULL|              BK|                             NULL|        NULL|EB CHURCH AVE @ CONE|       Y ISLAND AVE|                  0|       1111|           C|                   T|                      NULL|                NULL|              NULL|           GR|                  NULL|        2024|        NULL|             0|               NULL|2025-01-02 00:00:00|\n",
            "|    4042039560|T131642C|                NY|       OMT|             5|             SUBN|       TOYOT|             V|           0|           0|           0|                      0|              NULL|                 0|              0|          0|          NULL|        NULL|         0804A|               NULL|              QN|                             NULL|        NULL| NB WOODHAVEN BLVD @|           97TH AVE|                  0|       1111|           C|                   T|                      NULL|                NULL|              NULL|           GY|                  NULL|        2023|        NULL|             0|               NULL|2025-01-02 00:00:00|\n",
            "|    4042039571| TKT1742|                TX|       PAS|             5|               LL|       TOYOT|             V|           0|           0|           0|                      0|              NULL|                 0|              0|          0|          NULL|        NULL|         0806A|               NULL|              BX|                             NULL|        NULL|SB WEBSTER AVE @ E 1|            94TH ST|                  0|       1111|           C|                   T|                      NULL|                NULL|              NULL|         NULL|                  NULL|        2011|        NULL|             0|               NULL|2025-01-02 00:00:00|\n",
            "|    4042039583|T799929C|                NY|       OMT|             5|             4DSD|       TOYOT|             V|           0|           0|           0|                      0|              NULL|                 0|              0|          0|          NULL|        NULL|         0806A|               NULL|              BK|                             NULL|        NULL|WB KINGS HIGHWAY @ E|            37TH ST|                  0|       1111|           C|                   T|                      NULL|                NULL|              NULL|           BK|                  NULL|        2015|        NULL|             0|               NULL|2025-01-02 00:00:00|\n",
            "|    4042039595| KLA7363|                NY|       PAS|             5|             SUBN|       TOYOT|             V|           0|           0|           0|                      0|              NULL|                 0|              0|          0|          NULL|        NULL|         0807A|               NULL|              QN|                             NULL|        NULL|SB MAIN ST @ SANFORD|                AVE|                  0|       1111|           C|                   T|                      NULL|                NULL|              NULL|           GY|                  NULL|        2018|        NULL|             0|               NULL|2025-01-02 00:00:00|\n",
            "|    4042039601| LJP3596|                NY|       PAS|             5|             PICK|       NISSA|             V|           0|           0|           0|                      0|              NULL|                 0|              0|          0|          NULL|        NULL|         0810A|               NULL|              QN|                             NULL|        NULL|WB JAMAICA AVE @ 168|              TH ST|                  0|       1111|           C|                   T|                      NULL|                NULL|              NULL|           GY|                  NULL|        2023|        NULL|             0|               NULL|2025-01-02 00:00:00|\n",
            "|    4042039613|  M98RUH|                NJ|       PAS|             5|             SEDA|       HONDA|             V|           0|           0|           0|                      0|              NULL|                 0|              0|          0|          NULL|        NULL|         0810A|               NULL|              BK|                             NULL|        NULL|NB ROGERS AVE @ MONT|          GOMERY ST|                  0|       1111|           C|                   T|                      NULL|                NULL|              NULL|         NULL|                  NULL|        2012|        NULL|             0|               NULL|2025-01-02 00:00:00|\n",
            "|    4042039625| LSG3024|                PA|       PAS|             5|              SDN|       INFIN|             V|           0|           0|           0|                      0|              NULL|                 0|              0|          0|          NULL|        NULL|         0811A|               NULL|              QN|                             NULL|        NULL|SB MERRICK BLVD @ BA|         ISLEY BLVD|                  0|       1111|           C|                   T|                      NULL|                NULL|              NULL|         NULL|                  NULL|        2018|        NULL|             0|               NULL|2025-01-02 00:00:00|\n",
            "|    4042039637| LAP5753|                NY|       PAS|             5|             SUBN|       HONDA|             V|           0|           0|           0|                      0|              NULL|                 0|              0|          0|          NULL|        NULL|         0812A|               NULL|              MN|                             NULL|        NULL|EB W 181ST ST @ WADS|          WORTH AVE|                  0|       1111|           C|                   T|                      NULL|                NULL|              NULL|         LTBK|                  NULL|        2019|        NULL|             0|               NULL|2025-01-02 00:00:00|\n",
            "|    4042039649| LFM6699|                NY|       PAS|             5|             SUBN|        JEEP|             V|           0|           0|           0|                      0|              NULL|                 0|              0|          0|          NULL|        NULL|         0813A|               NULL|              BK|                             NULL|        NULL|NB SMITH ST @ FULTON|               MALL|                  0|       1111|           C|                   T|                      NULL|                NULL|              NULL|           BK|                  NULL|        2024|        NULL|             0|               NULL|2025-01-02 00:00:00|\n",
            "|    4042039650| DNW2856|                NY|       PAS|             5|             SUBN|       NISSA|             V|           0|           0|           0|                      0|              NULL|                 0|              0|          0|          NULL|        NULL|         0813A|               NULL|              BK|                             NULL|        NULL|SB NOSTRAND AVE @ EA|         STERN PKWY|                  0|       1111|           C|                   T|                      NULL|                NULL|              NULL|           BK|                  NULL|        2005|        NULL|             0|               NULL|2025-01-02 00:00:00|\n",
            "|    4042039662| JPL1592|                NY|       PAS|             5|             SUBN|       HYUND|             V|           0|           0|           0|                      0|              NULL|                 0|              0|          0|          NULL|        NULL|         0814A|               NULL|              QN|                             NULL|        NULL|SB MERRICK BLVD @ BA|         ISLEY BLVD|                  0|       1111|           C|                   T|                      NULL|                NULL|              NULL|           GY|                  NULL|        2022|        NULL|             0|               NULL|2025-01-02 00:00:00|\n",
            "|    4042039674| KYN5423|                NY|       PAS|             5|             SUBN|       HONDA|             V|           0|           0|           0|                      0|              NULL|                 0|              0|          0|          NULL|        NULL|         0815A|               NULL|              ST|                             NULL|        NULL|NB HYLAN BLVD @ MIDL|            AND AVE|                  0|       1111|           C|                   T|                      NULL|                NULL|              NULL|           BL|                  NULL|        2009|        NULL|             0|               NULL|2025-01-02 00:00:00|\n",
            "|    4042039686| 565202T|                TN|       PAS|             5|             NULL|        LANL|             V|           0|           0|           0|                      0|              NULL|                 0|              0|          0|          NULL|        NULL|         0816A|               NULL|              BK|                             NULL|        NULL|WB FULTON ST @ LAWRE|             NCE ST|                  0|       1111|           C|                   T|                      NULL|                NULL|              NULL|         NULL|                  NULL|        2025|        NULL|             0|               NULL|2025-01-02 00:00:00|\n",
            "+--------------+--------+------------------+----------+--------------+-----------------+------------+--------------+------------+------------+------------+-----------------------+------------------+------------------+---------------+-----------+--------------+------------+--------------+-------------------+----------------+---------------------------------+------------+--------------------+-------------------+-------------------+-----------+------------+--------------------+--------------------------+--------------------+------------------+-------------+----------------------+------------+------------+--------------+-------------------+-------------------+\n",
            "only showing top 20 rows\n",
            "\n"
          ]
        }
      ]
    },
    {
      "cell_type": "markdown",
      "source": [
        "## **Filters**"
      ],
      "metadata": {
        "id": "Tt2eztP2jcVC"
      }
    },
    {
      "cell_type": "code",
      "source": [
        "df.filter(df.violation_code.isNull()).show()"
      ],
      "metadata": {
        "colab": {
          "base_uri": "https://localhost:8080/"
        },
        "id": "lZSvlHUPcvrj",
        "outputId": "43e4f58a-129e-4b52-ac6f-2cf4810f70ca"
      },
      "execution_count": 210,
      "outputs": [
        {
          "output_type": "stream",
          "name": "stdout",
          "text": [
            "+--------------+--------+------------------+----------+--------------+-----------------+------------+--------------+------------+------------+------------+-----------------------+------------------+------------------+---------------+-----------+--------------+------------+--------------+-------------------+----------------+---------------------------------+------------+-----------+-------------------+-------------------+-----------+------------+--------------------+--------------------------+--------------------+------------------+-------------+----------------------+------------+------------+--------------+-------------------+----------+\n",
            "|summons_number|plate_id|registration_state|plate_type|violation_code|vehicle_body_type|vehicle_make|issuing_agency|street_code1|street_code2|street_code3|vehicle_expiration_date|violation_location|violation_precinct|issuer_precinct|issuer_code|issuer_command|issuer_squad|violation_time|time_first_observed|violation_county|violation_in_front_of_or_opposite|house_number|street_name|intersecting_street|date_first_observed|law_section|sub_division|violation_legal_code|days_parking_in_effect____|from_hours_in_effect|to_hours_in_effect|vehicle_color|unregistered_vehicle?:|vehicle_year|meter_number|feet_from_curb|violation_post_code|issue_date|\n",
            "+--------------+--------+------------------+----------+--------------+-----------------+------------+--------------+------------+------------+------------+-----------------------+------------------+------------------+---------------+-----------+--------------+------------+--------------+-------------------+----------------+---------------------------------+------------+-----------+-------------------+-------------------+-----------+------------+--------------------+--------------------------+--------------------+------------------+-------------+----------------------+------------+------------+--------------+-------------------+----------+\n",
            "+--------------+--------+------------------+----------+--------------+-----------------+------------+--------------+------------+------------+------------+-----------------------+------------------+------------------+---------------+-----------+--------------+------------+--------------+-------------------+----------------+---------------------------------+------------+-----------+-------------------+-------------------+-----------+------------+--------------------+--------------------------+--------------------+------------------+-------------+----------------------+------------+------------+--------------+-------------------+----------+\n",
            "\n"
          ]
        }
      ]
    },
    {
      "cell_type": "code",
      "source": [
        "df.filter(df.plate_id.isNull()).show()"
      ],
      "metadata": {
        "colab": {
          "base_uri": "https://localhost:8080/"
        },
        "id": "VXZ34fA7pHWf",
        "outputId": "21014fee-cf78-4579-a501-1e4a7fc8239f"
      },
      "execution_count": 104,
      "outputs": [
        {
          "output_type": "stream",
          "name": "stdout",
          "text": [
            "+--------------+--------+------------------+----------+--------------+-----------------+------------+--------------+------------+------------+------------+-----------------------+------------------+------------------+---------------+-----------+--------------+------------+--------------+-------------------+----------------+---------------------------------+------------+-----------+-------------------+-------------------+-----------+------------+--------------------+--------------------------+--------------------+------------------+-------------+----------------------+------------+------------+--------------+-------------------+-----------+\n",
            "|summons_number|plate_id|registration_state|plate_type|violation_code|vehicle_body_type|vehicle_make|issuing_agency|street_code1|street_code2|street_code3|vehicle_expiration_date|violation_location|violation_precinct|issuer_precinct|issuer_code|issuer_command|issuer_squad|violation_time|time_first_observed|violation_county|violation_in_front_of_or_opposite|house_number|street_name|intersecting_street|date_first_observed|law_section|sub_division|violation_legal_code|days_parking_in_effect____|from_hours_in_effect|to_hours_in_effect|vehicle_color|unregistered_vehicle?:|vehicle_year|meter_number|feet_from_curb|violation_post_code|issue_date2|\n",
            "+--------------+--------+------------------+----------+--------------+-----------------+------------+--------------+------------+------------+------------+-----------------------+------------------+------------------+---------------+-----------+--------------+------------+--------------+-------------------+----------------+---------------------------------+------------+-----------+-------------------+-------------------+-----------+------------+--------------------+--------------------------+--------------------+------------------+-------------+----------------------+------------+------------+--------------+-------------------+-----------+\n",
            "+--------------+--------+------------------+----------+--------------+-----------------+------------+--------------+------------+------------+------------+-----------------------+------------------+------------------+---------------+-----------+--------------+------------+--------------+-------------------+----------------+---------------------------------+------------+-----------+-------------------+-------------------+-----------+------------+--------------------+--------------------------+--------------------+------------------+-------------+----------------------+------------+------------+--------------+-------------------+-----------+\n",
            "\n"
          ]
        }
      ]
    },
    {
      "cell_type": "markdown",
      "source": [
        "We have the Violation Code for all the tickets as well as the plate ID"
      ],
      "metadata": {
        "id": "IDe-Kx-ddImb"
      }
    },
    {
      "cell_type": "code",
      "execution_count": 105,
      "metadata": {
        "id": "mkqS64X50znl",
        "colab": {
          "base_uri": "https://localhost:8080/"
        },
        "outputId": "b20ffeaf-6ec3-4cc7-c048-b50e32115d34"
      },
      "outputs": [
        {
          "output_type": "stream",
          "name": "stdout",
          "text": [
            "+--------------+--------+------------------+----------+--------------+-----------------+------------+--------------+------------+------------+------------+-----------------------+------------------+------------------+---------------+-----------+--------------+------------+--------------+-------------------+----------------+---------------------------------+------------+--------------------+-------------------+-------------------+-----------+------------+--------------------+--------------------------+--------------------+------------------+-------------+----------------------+------------+------------+--------------+-------------------+-------------------+\n",
            "|summons_number|plate_id|registration_state|plate_type|violation_code|vehicle_body_type|vehicle_make|issuing_agency|street_code1|street_code2|street_code3|vehicle_expiration_date|violation_location|violation_precinct|issuer_precinct|issuer_code|issuer_command|issuer_squad|violation_time|time_first_observed|violation_county|violation_in_front_of_or_opposite|house_number|         street_name|intersecting_street|date_first_observed|law_section|sub_division|violation_legal_code|days_parking_in_effect____|from_hours_in_effect|to_hours_in_effect|vehicle_color|unregistered_vehicle?:|vehicle_year|meter_number|feet_from_curb|violation_post_code|        issue_date2|\n",
            "+--------------+--------+------------------+----------+--------------+-----------------+------------+--------------+------------+------------+------------+-----------------------+------------------+------------------+---------------+-----------+--------------+------------+--------------+-------------------+----------------+---------------------------------+------------+--------------------+-------------------+-------------------+-----------+------------+--------------------+--------------------------+--------------------+------------------+-------------+----------------------+------------+------------+--------------+-------------------+-------------------+\n",
            "|    4042039686| 565202T|                TN|       PAS|             5|             NULL|        LANL|             V|           0|           0|           0|                      0|              NULL|                 0|              0|          0|          NULL|        NULL|         0816A|               NULL|              BK|                             NULL|        NULL|WB FULTON ST @ LAWRE|             NCE ST|                  0|       1111|           C|                   T|                      NULL|                NULL|              NULL|         NULL|                  NULL|        2025|        NULL|             0|               NULL|2025-01-02 00:00:00|\n",
            "|    4042039698| 565202T|                TN|       PAS|             5|             NULL|        LANL|             V|           0|           0|           0|                      0|              NULL|                 0|              0|          0|          NULL|        NULL|         0816A|               NULL|              BK|                             NULL|        NULL|WB FULTON ST @ LAWRE|             NCE ST|                  0|       1111|           C|                   T|                      NULL|                NULL|              NULL|         NULL|                  NULL|        2025|        NULL|             0|               NULL|2025-01-02 00:00:00|\n",
            "|    4042039730|  J26VAW|                NJ|       PAS|             5|             SEDA|       TOYOT|             V|           0|           0|           0|                      0|              NULL|                 0|              0|          0|          NULL|        NULL|         0818A|               NULL|              BX|                             NULL|        NULL|SB WEBSTER AVE @ ITT|             NER PL|                  0|       1111|           C|                   T|                      NULL|                NULL|              NULL|         NULL|                  NULL|        2025|        NULL|             0|               NULL|2025-01-02 00:00:00|\n",
            "|    4042040226| ZXX7339|                PA|       PAS|             5|               TK|       FRUEH|             V|           0|           0|           0|                      0|              NULL|                 0|              0|          0|          NULL|        NULL|         0859A|               NULL|              BX|                             NULL|        NULL|NB BRONX RIVER AVE @|    BRUCKNER BLVD S|                  0|       1111|           C|                   T|                      NULL|                NULL|              NULL|         NULL|                  NULL|        2025|        NULL|             0|               NULL|2025-01-02 00:00:00|\n",
            "|    4042040937| LSK7818|                NY|       PAS|             5|             SUBN|       TOYOT|             V|           0|           0|           0|                      0|              NULL|                 0|              0|          0|          NULL|        NULL|         1022A|               NULL|              BX|                             NULL|        NULL|WB E GUNHILL RD @ DE|          CATUR AVE|                  0|       1111|           C|                   T|                      NULL|                NULL|              NULL|           GY|                  NULL|        2025|        NULL|             0|               NULL|2025-01-02 00:00:00|\n",
            "|    4042042703|  Y94PLM|                NJ|       PAS|             5|             SPOR|       ME/BE|             V|           0|           0|           0|                      0|              NULL|                 0|              0|          0|          NULL|        NULL|         0117P|               NULL|              BK|                             NULL|        NULL|EB KINGS HIGHWAY @ M|        CDONALD AVE|                  0|       1111|           C|                   T|                      NULL|                NULL|              NULL|         NULL|                  NULL|        2025|        NULL|             0|               NULL|2025-01-02 00:00:00|\n",
            "|    4042044025| LRS6891|                NY|       PAS|             5|             4DSD|       HONDA|             V|           0|           0|           0|                      0|              NULL|                 0|              0|          0|          NULL|        NULL|         0324P|               NULL|              QN|                             NULL|        NULL| SB WOODHAVEN BLVD @|        JAMAICA AVE|                  0|       1111|           C|                   T|                      NULL|                NULL|              NULL|           GY|                  NULL|        2025|        NULL|             0|               NULL|2025-01-02 00:00:00|\n",
            "|    4042045418| FHN7119|                NY|       PAS|             5|             SUBN|       NISSA|             V|           0|           0|           0|                      0|              NULL|                 0|              0|          0|          NULL|        NULL|         0431P|               NULL|              MN|                             NULL|        NULL|EB E 14TH STREET @ U|       NIVERSITY PL|                  0|       1111|           C|                   T|                      NULL|                NULL|              NULL|           WH|                  NULL|        2025|        NULL|             0|               NULL|2025-01-02 00:00:00|\n",
            "|    4042046400| LRS2066|                NY|       PAS|             5|             4DSD|       TOYOT|             V|           0|           0|           0|                      0|              NULL|                 0|              0|          0|          NULL|        NULL|         0520P|               NULL|              BK|                             NULL|        NULL| EB FULTON ST @ BOND|                 ST|                  0|       1111|           C|                   T|                      NULL|                NULL|              NULL|           WH|                  NULL|        2025|        NULL|             0|               NULL|2025-01-02 00:00:00|\n",
            "|    4042052113| JDORADO|                NY|       SRF|             5|             SUBN|       HONDA|             V|           0|           0|           0|                      0|              NULL|                 0|              0|          0|          NULL|        NULL|         0732P|               NULL|              MN|                             NULL|        NULL|EB E 14TH STREET @ U|       NIVERSITY PL|                  0|       1111|           C|                   T|                      NULL|                NULL|              NULL|           GY|                  NULL|        2025|        NULL|             0|               NULL|2025-01-02 00:00:00|\n",
            "|    4042052484| HJX5747|                NY|       PAS|             5|             SUBN|       HONDA|             V|           0|           0|           0|                      0|              NULL|                 0|              0|          0|          NULL|        NULL|         0640P|               NULL|              QN|                             NULL|        NULL|WB JAMAICA AVE @ 168|              TH ST|                  0|       1111|           C|                   T|                      NULL|                NULL|              NULL|           GY|                  NULL|        2025|        NULL|             0|               NULL|2025-01-02 00:00:00|\n",
            "|    4042052666| JDORADO|                NY|       SRF|             5|             SUBN|       HONDA|             V|           0|           0|           0|                      0|              NULL|                 0|              0|          0|          NULL|        NULL|         0731P|               NULL|              MN|                             NULL|        NULL|EB W 14TH STREET @ 5|             TH AVE|                  0|       1111|           C|                   T|                      NULL|                NULL|              NULL|           GY|                  NULL|        2025|        NULL|             0|               NULL|2025-01-02 00:00:00|\n",
            "|    1498490426| LRU7771|                NY|       PAS|            14|              SDN|       HONDA|             P|       27530|       61010|       25370|               20261125|              0076|                76|             76|     947223|          0076|        0000|         0638A|               NULL|               K|                                F|         606|          CLINTON ST|               NULL|                  0|        408|          E2|                NULL|                   BBBBBBB|                 ALL|               ALL|           BK|                     0|        2025|           -|             0|               NULL|2025-01-02 00:00:00|\n",
            "|    1498748120| LNZ5579|                NY|       PAS|            46|              SDN|       HYUND|             P|           0|       40404|       40404|               20250930|              0078|                78|             78|     959571|          0078|        0000|         0722P|               NULL|              NY|                                F|          57|           LENOX AVE|               NULL|                  0|        408|          F1|                NULL|                   BBBBBBB|                 ALL|               ALL|          BLU|                     0|        2025|           -|             0|               NULL|2025-01-02 00:00:00|\n",
            "|    1498831382| 27791BT|                NY|       999|            98|              BUS|       ICCOR|             P|       69230|       83330|       23230|               20250228|              0081|                81|             81|     973505|          0081|        0000|         0655A|               NULL|               K|                                F|         857|         PARK AVENUE|               NULL|                  0|        408|          D1|                NULL|                   BBBBBBB|                 ALL|               ALL|        YELLO|                     0|        2025|           -|             0|               NULL|2025-01-02 00:00:00|\n",
            "|    1499796602| LRY7697|                NY|       PAS|            98|              SDN|       HONDA|             P|       15640|        8190|       57790|               20241228|               115|               115|            115|     965917|          0115|        0000|         0915A|               NULL|               Q|                                F|       32-31|           74 STREET|               NULL|                  0|        408|          E2|                NULL|                   BBBBBBB|                 ALL|               ALL|          RED|                     0|        2025|           -|             0|               NULL|2025-01-02 00:00:00|\n",
            "|    1500041956| HJG8400|                NY|       PAS|            24|             SUBN|       VOLKS|             P|       16480|       19030|       15780|               20261109|              0062|                62|             62|     955323|          0062|        0000|         0718P|               NULL|               K|                                F|         122|       BAY 22 STREET|               NULL|                  0|        408|          E2|                NULL|                   BBBBBBB|                 ALL|               ALL|         BLUE|                     0|        2026|           -|             0|               NULL|2025-01-02 00:00:00|\n",
            "|    2017786550|T109976C|                NY|       OMT|            21|             SUBN|       HONDA|             S|       22920|       40404|       40404|               20250228|              0049|                49|              0|          0|          BX11|        NULL|         1203P|              00000|           Bronx|                                F|        2347|       CRUGER AVENUE|               NULL|                  0|        408|          d1|                NULL|                         Y|               1130A|             0100P|           WH|                  NULL|        2025|        NULL|             0|               NULL|2025-01-02 00:00:00|\n",
            "|    2018853004| KHP2105|                NY|       PAS|            21|             SUBN|         KIA|             S|       55690|       21940|       22040|               20251102|               102|               102|              0|     686288|          QW09|        NULL|         1228P|              00000|             Qns|                                F|      131-17| METROPOLITAN AVENUE|               NULL|                  0|        408|          d1|                NULL|                         Y|               1200P|             0130P|           GY|                  NULL|        2025|        NULL|             0|               NULL|2025-01-02 00:00:00|\n",
            "|    2020423698| LSK1673|                NY|       OMS|            21|             SUBN|       TOYOT|             S|       37980|       14180|       14230|               20250930|              0069|                69|              0|     668698|          KS18|        NULL|         1116A|              00000|           Kings|                                F|        1454|      EAST 94 STREET|               NULL|                  0|        408|          d1|                NULL|                         Y|               1130A|             0100P|           WH|                  NULL|        2025|        NULL|             0|               NULL|2025-01-02 00:00:00|\n",
            "+--------------+--------+------------------+----------+--------------+-----------------+------------+--------------+------------+------------+------------+-----------------------+------------------+------------------+---------------+-----------+--------------+------------+--------------+-------------------+----------------+---------------------------------+------------+--------------------+-------------------+-------------------+-----------+------------+--------------------+--------------------------+--------------------+------------------+-------------+----------------------+------------+------------+--------------+-------------------+-------------------+\n",
            "only showing top 20 rows\n",
            "\n"
          ]
        }
      ],
      "source": [
        "df.filter(df.vehicle_year >= 2025).show()"
      ]
    },
    {
      "cell_type": "code",
      "source": [
        "df.filter((df.vehicle_make == 'DODGE') & ((df.vehicle_color == 'White' ) |(df.vehicle_color=='WH'))).show()"
      ],
      "metadata": {
        "colab": {
          "base_uri": "https://localhost:8080/"
        },
        "id": "-DabF-OChWLA",
        "outputId": "28866aab-a256-4db3-956a-bd06389be754"
      },
      "execution_count": 106,
      "outputs": [
        {
          "output_type": "stream",
          "name": "stdout",
          "text": [
            "+--------------+--------+------------------+----------+--------------+-----------------+------------+--------------+------------+------------+------------+-----------------------+------------------+------------------+---------------+-----------+--------------+------------+--------------+-------------------+----------------+---------------------------------+------------+--------------------+--------------------+-------------------+-----------+------------+--------------------+--------------------------+--------------------+------------------+-------------+----------------------+------------+------------+--------------+-------------------+-------------------+\n",
            "|summons_number|plate_id|registration_state|plate_type|violation_code|vehicle_body_type|vehicle_make|issuing_agency|street_code1|street_code2|street_code3|vehicle_expiration_date|violation_location|violation_precinct|issuer_precinct|issuer_code|issuer_command|issuer_squad|violation_time|time_first_observed|violation_county|violation_in_front_of_or_opposite|house_number|         street_name| intersecting_street|date_first_observed|law_section|sub_division|violation_legal_code|days_parking_in_effect____|from_hours_in_effect|to_hours_in_effect|vehicle_color|unregistered_vehicle?:|vehicle_year|meter_number|feet_from_curb|violation_post_code|        issue_date2|\n",
            "+--------------+--------+------------------+----------+--------------+-----------------+------------+--------------+------------+------------+------------+-----------------------+------------------+------------------+---------------+-----------+--------------+------------+--------------+-------------------+----------------+---------------------------------+------------+--------------------+--------------------+-------------------+-----------+------------+--------------------+--------------------------+--------------------+------------------+-------------+----------------------+------------+------------+--------------+-------------------+-------------------+\n",
            "|    2017786330| HBN1468|                NY|       PAS|            21|             SUBN|       DODGE|             S|       52220|       72620|       10620|               20260722|              0049|                49|              0|          0|          BX11|        NULL|         0812A|              00000|           Bronx|                                F|         782|  MORRIS PARK AVENUE|                NULL|                  0|        408|          d1|                NULL|                      NULL|               0800A|             0830A|           WH|                  NULL|        2018|        NULL|             0|               NULL|2025-01-02 00:00:00|\n",
            "|    2020587920| KZX4230|                NY|       PAS|            21|             SUBN|       DODGE|             S|        9930|        5780|        5880|               20250406|              0068|                68|              0|     627420|          KS11|        NULL|         1135A|              00000|           Kings|                                F|         720|           67 STREET|                NULL|                  0|        408|          d1|                NULL|                         Y|               1130A|             0100P|           WH|                  NULL|        2006|        NULL|             0|               NULL|2025-01-02 00:00:00|\n",
            "|    2021890302| 3148790|                IN|       PAS|            21|             DELV|       DODGE|             S|           0|           0|           0|                      0|              0088|                88|              0|     684362|          KN02|        NULL|         0308A|              00000|           Kings|                             NULL|        NULL|S/S of PARK AVENUE 5|' E/O RYERSON STREET|                  0|        408|          d1|                NULL|                     Y Y Y|               0300A|             0600A|           WH|                  NULL|           0|        NULL|             0|               NULL|2025-01-02 00:00:00|\n",
            "|    2021985751|  123128|                NE|       PAS|            21|             2DSD|       DODGE|             S|       58530|       12130|       86030|                      0|              0071|                71|              0|          0|          KN09|        NULL|         1204P|              00000|           Kings|                                O|         664|        MAPLE STREET|                NULL|                  0|        408|          d1|                NULL|                      Y  Y|               1100A|             1230P|           WH|                  NULL|           0|        NULL|             0|               NULL|2025-01-02 00:00:00|\n",
            "|    2021999841| KSA8135|                NY|       PAS|            21|             SUBN|       DODGE|             S|       81030|       80630|       31230|               20251229|              0083|                83|              0|          0|          KN04|        NULL|         1147A|              00000|           Kings|                                F|         397|     STANHOPE STREET|                NULL|                  0|        408|          d1|                NULL|                      Y  Y|               1100A|             1230P|           WH|                  NULL|        2017|        NULL|             0|               NULL|2025-01-02 00:00:00|\n",
            "|    2022007840| LAP1005|                NY|       PAS|            21|             SUBN|       DODGE|             S|       36730|       26230|       77930|               20250302|              0067|                67|              0|     997576|          KN17|        NULL|         0830A|              00000|           Kings|                                F|         236|      EAST 42 STREET|                NULL|                  0|        408|          d1|                NULL|                      Y  Y|               0800A|             0930A|           WH|                  NULL|        2020|        NULL|             0|               NULL|2025-01-02 00:00:00|\n",
            "|    2022021319| ZTX3584|                PA|       PAS|            21|             PICK|       DODGE|             S|       70020|       55720|       18520|                      0|              0043|                43|              0|     695776|          BX09|        NULL|         0926A|              00000|           Bronx|                                F|        2121|     TURNBULL AVENUE|                NULL|                  0|        408|          d1|                NULL|                      Y  Y|               0830A|             1000A|           WH|                  NULL|           0|        NULL|             0|               NULL|2025-01-02 00:00:00|\n",
            "|    2022079474|  W29PZA|                NJ|       PAS|            21|             SUBN|       DODGE|             S|       80930|       23930|       89940|                      0|              0090|                90|              0|     687745|          KN01|        NULL|         1002A|              00000|           Kings|                                O|         276|        STAGG STREET|                NULL|                  0|        408|          d1|                NULL|                      Y  Y|               0930A|             1100A|           WH|                  NULL|           0|        NULL|             0|               NULL|2025-01-02 00:00:00|\n",
            "|    4042040706| 59711ND|                NY|       COM|             5|             UTIL|       DODGE|             V|           0|           0|           0|                      0|              NULL|                 0|              0|          0|          NULL|        NULL|         0957A|               NULL|              QN|                             NULL|        NULL|WB JAMAICA AVE @ 168|               TH ST|                  0|       1111|           C|                   T|                      NULL|                NULL|              NULL|           WH|                  NULL|        2021|        NULL|             0|               NULL|2025-01-02 00:00:00|\n",
            "|    4932315144| KXJ2102|                NY|       PAS|            36|             SUBN|       DODGE|             V|           0|           0|           0|                      0|              NULL|                 0|              0|          0|          NULL|        NULL|         0258A|               NULL|              BX|                             NULL|        NULL|NB RIVERDALE AVE @ W|            254TH ST|                  0|       1180|           B|                   T|                      NULL|                NULL|              NULL|           WH|                  NULL|        2016|        NULL|             0|               NULL|2025-01-02 00:00:00|\n",
            "|    4932315983| JRB2338|                NY|       PAS|            36|             SUBN|       DODGE|             V|           0|           0|           0|                      0|              NULL|                 0|              0|          0|          NULL|        NULL|         0337A|               NULL|              QN|                             NULL|        NULL| NB CROSS BAY BLVD @|           159TH AVE|                  0|       1180|           B|                   T|                      NULL|                NULL|              NULL|           WH|                  NULL|        2011|        NULL|             0|               NULL|2025-01-02 00:00:00|\n",
            "|    4932317189|  BA2650|                NY|       PSD|            36|             SUBN|       DODGE|             V|           0|           0|           0|                      0|              NULL|                 0|              0|          0|          NULL|        NULL|         0422A|               NULL|              BX|                             NULL|        NULL|NB SOUTHERN BLVD @ C|          ROTONA AVE|                  0|       1180|           B|                   T|                      NULL|                NULL|              NULL|           WH|                  NULL|        2018|        NULL|             0|               NULL|2025-01-02 00:00:00|\n",
            "|    4932319101|  KYD409|                MN|       PAS|            36|             SEDA|       DODGE|             V|           0|           0|           0|                      0|              NULL|                 0|              0|          0|          NULL|        NULL|         0526A|               NULL|              MN|                             NULL|        NULL| NB MALCOLM X BLVD /| LENOX AVE @ W 138TH|                  0|       1180|           B|                   T|                      NULL|                NULL|              NULL|        White|                  NULL|        2023|        NULL|             0|               NULL|2025-01-02 00:00:00|\n",
            "|    4932324613| LKS7160|                NY|       PAS|            36|             SUBN|       DODGE|             V|           0|           0|           0|                      0|              NULL|                 0|              0|          0|          NULL|        NULL|         0726A|               NULL|              ST|                             NULL|        NULL|WB SEAVIEW AVE @ N R|         AILROAD AVE|                  0|       1180|           B|                   T|                      NULL|                NULL|              NULL|           WH|                  NULL|        2020|        NULL|             0|               NULL|2025-01-02 00:00:00|\n",
            "|    4932331526| KJM4605|                NY|       PAS|            36|             SUBN|       DODGE|             V|           0|           0|           0|                      0|              NULL|                 0|              0|          0|          NULL|        NULL|         0849A|               NULL|              QN|                             NULL|        NULL|EB HORACE HARDING EX| PRESSWAY @ PECK AVE|                  0|       1180|           B|                   T|                      NULL|                NULL|              NULL|           WH|                  NULL|        2021|        NULL|             0|               NULL|2025-01-02 00:00:00|\n",
            "|    4932334369| KXZ6198|                NY|       PAS|            36|             SUBN|       DODGE|             V|           0|           0|           0|                      0|              NULL|                 0|              0|          0|          NULL|        NULL|         0930A|               NULL|              BX|                             NULL|        NULL| NB LONGFELLOW AVE @|         JENNINGS ST|                  0|       1180|           B|                   T|                      NULL|                NULL|              NULL|           WH|                  NULL|        2019|        NULL|             0|               NULL|2025-01-02 00:00:00|\n",
            "|    4932339392| DJB8942|                NY|       PAS|            36|             SUBN|       DODGE|             V|           0|           0|           0|                      0|              NULL|                 0|              0|          0|          NULL|        NULL|         1015A|               NULL|              QN|                             NULL|        NULL|WB N CONDUIT AVE @ 8|              8TH ST|                  0|       1180|           B|                   T|                      NULL|                NULL|              NULL|           WH|                  NULL|        2018|        NULL|             0|               NULL|2025-01-02 00:00:00|\n",
            "|    4932346165| JLK8386|                NY|       PAS|            36|             SUBN|       DODGE|             V|           0|           0|           0|                      0|              NULL|                 0|              0|          0|          NULL|        NULL|         1116A|               NULL|              MN|                             NULL|        NULL| NB WEST ST @ W 11TH|                  ST|                  0|       1180|           B|                   T|                      NULL|                NULL|              NULL|           WH|                  NULL|        2018|        NULL|             0|               NULL|2025-01-02 00:00:00|\n",
            "|    4932347790| FJM5620|                NY|       PAS|            36|             SUBN|       DODGE|             V|           0|           0|           0|                      0|              NULL|                 0|              0|          0|          NULL|        NULL|         1130A|               NULL|              MN|                             NULL|        NULL| NB WEST ST @ WARREN|                  ST|                  0|       1180|           B|                   T|                      NULL|                NULL|              NULL|           WH|                  NULL|        2023|        NULL|             0|               NULL|2025-01-02 00:00:00|\n",
            "|    4932349828| HUV7391|                NY|       PAS|            36|             4DSD|       DODGE|             V|           0|           0|           0|                      0|              NULL|                 0|              0|          0|          NULL|        NULL|         1148A|               NULL|              BX|                             NULL|        NULL|WB BRUCKNER BLVD @ W|      HITE PLAINS RD|                  0|       1180|           B|                   T|                      NULL|                NULL|              NULL|           WH|                  NULL|        2007|        NULL|             0|               NULL|2025-01-02 00:00:00|\n",
            "+--------------+--------+------------------+----------+--------------+-----------------+------------+--------------+------------+------------+------------+-----------------------+------------------+------------------+---------------+-----------+--------------+------------+--------------+-------------------+----------------+---------------------------------+------------+--------------------+--------------------+-------------------+-----------+------------+--------------------+--------------------------+--------------------+------------------+-------------+----------------------+------------+------------+--------------+-------------------+-------------------+\n",
            "only showing top 20 rows\n",
            "\n"
          ]
        }
      ]
    },
    {
      "cell_type": "code",
      "source": [
        "df.filter((df.registration_state != 'NY') & (df.registration_state!= 'NJ')).show()"
      ],
      "metadata": {
        "colab": {
          "base_uri": "https://localhost:8080/"
        },
        "id": "jSYtJwNmjVnT",
        "outputId": "c64311b4-c75c-4637-8d3a-fb76329f2bcc"
      },
      "execution_count": 107,
      "outputs": [
        {
          "output_type": "stream",
          "name": "stdout",
          "text": [
            "+--------------+--------+------------------+----------+--------------+-----------------+------------+--------------+------------+------------+------------+-----------------------+------------------+------------------+---------------+-----------+--------------+------------+--------------+-------------------+----------------+---------------------------------+------------+--------------------+-------------------+-------------------+-----------+------------+--------------------+--------------------------+--------------------+------------------+-------------+----------------------+------------+------------+--------------+-------------------+-------------------+\n",
            "|summons_number|plate_id|registration_state|plate_type|violation_code|vehicle_body_type|vehicle_make|issuing_agency|street_code1|street_code2|street_code3|vehicle_expiration_date|violation_location|violation_precinct|issuer_precinct|issuer_code|issuer_command|issuer_squad|violation_time|time_first_observed|violation_county|violation_in_front_of_or_opposite|house_number|         street_name|intersecting_street|date_first_observed|law_section|sub_division|violation_legal_code|days_parking_in_effect____|from_hours_in_effect|to_hours_in_effect|vehicle_color|unregistered_vehicle?:|vehicle_year|meter_number|feet_from_curb|violation_post_code|        issue_date2|\n",
            "+--------------+--------+------------------+----------+--------------+-----------------+------------+--------------+------------+------------+------------+-----------------------+------------------+------------------+---------------+-----------+--------------+------------+--------------+-------------------+----------------+---------------------------------+------------+--------------------+-------------------+-------------------+-----------+------------+--------------------+--------------------------+--------------------+------------------+-------------+----------------------+------------+------------+--------------+-------------------+-------------------+\n",
            "|    4042039510| MSA3480|                PA|       PAS|             5|               CP|         BMW|             V|           0|           0|           0|                      0|              NULL|                 0|              0|          0|          NULL|        NULL|         0757A|               NULL|              QN|                             NULL|        NULL|EB JAMAICA AVE @ SUT|          PHIN BLVD|                  0|       1111|           C|                   T|                      NULL|                NULL|              NULL|         NULL|                  NULL|        2021|        NULL|             0|               NULL|2025-01-02 00:00:00|\n",
            "|    4042039546| LWL6395|                PA|       PAS|             5|              SDN|       LEXUS|             V|           0|           0|           0|                      0|              NULL|                 0|              0|          0|          NULL|        NULL|         0759A|               NULL|              BK|                             NULL|        NULL|NB ROGERS AVE @ MONT|          GOMERY ST|                  0|       1111|           C|                   T|                      NULL|                NULL|              NULL|         NULL|                  NULL|        2019|        NULL|             0|               NULL|2025-01-02 00:00:00|\n",
            "|    4042039571| TKT1742|                TX|       PAS|             5|               LL|       TOYOT|             V|           0|           0|           0|                      0|              NULL|                 0|              0|          0|          NULL|        NULL|         0806A|               NULL|              BX|                             NULL|        NULL|SB WEBSTER AVE @ E 1|            94TH ST|                  0|       1111|           C|                   T|                      NULL|                NULL|              NULL|         NULL|                  NULL|        2011|        NULL|             0|               NULL|2025-01-02 00:00:00|\n",
            "|    4042039625| LSG3024|                PA|       PAS|             5|              SDN|       INFIN|             V|           0|           0|           0|                      0|              NULL|                 0|              0|          0|          NULL|        NULL|         0811A|               NULL|              QN|                             NULL|        NULL|SB MERRICK BLVD @ BA|         ISLEY BLVD|                  0|       1111|           C|                   T|                      NULL|                NULL|              NULL|         NULL|                  NULL|        2018|        NULL|             0|               NULL|2025-01-02 00:00:00|\n",
            "|    4042039686| 565202T|                TN|       PAS|             5|             NULL|        LANL|             V|           0|           0|           0|                      0|              NULL|                 0|              0|          0|          NULL|        NULL|         0816A|               NULL|              BK|                             NULL|        NULL|WB FULTON ST @ LAWRE|             NCE ST|                  0|       1111|           C|                   T|                      NULL|                NULL|              NULL|         NULL|                  NULL|        2025|        NULL|             0|               NULL|2025-01-02 00:00:00|\n",
            "|    4042039698| 565202T|                TN|       PAS|             5|             NULL|        LANL|             V|           0|           0|           0|                      0|              NULL|                 0|              0|          0|          NULL|        NULL|         0816A|               NULL|              BK|                             NULL|        NULL|WB FULTON ST @ LAWRE|             NCE ST|                  0|       1111|           C|                   T|                      NULL|                NULL|              NULL|         NULL|                  NULL|        2025|        NULL|             0|               NULL|2025-01-02 00:00:00|\n",
            "|    4042039704| MMG1016|                PA|       PAS|             5|              SDN|       HONDA|             V|           0|           0|           0|                      0|              NULL|                 0|              0|          0|          NULL|        NULL|         0816A|               NULL|              BK|                             NULL|        NULL|NB ROGERS AVE @ MONT|          GOMERY ST|                  0|       1111|           C|                   T|                      NULL|                NULL|              NULL|         NULL|                  NULL|        2017|        NULL|             0|               NULL|2025-01-02 00:00:00|\n",
            "|    4042039716|3453998B|                IL|       PAS|             5|             PICK|         GMC|             V|           0|           0|           0|                      0|              NULL|                 0|              0|          0|          NULL|        NULL|         0817A|               NULL|              BK|                             NULL|        NULL|NB ROGERS AVE @ MONT|          GOMERY ST|                  0|       1111|           C|                   T|                      NULL|                NULL|              NULL|         NULL|                  NULL|        2014|        NULL|             0|               NULL|2025-01-02 00:00:00|\n",
            "|    4042039728| LZW2169|                PA|       PAS|             5|               SW|       ME/BE|             V|           0|           0|           0|                      0|              NULL|                 0|              0|          0|          NULL|        NULL|         0818A|               NULL|              BX|                             NULL|        NULL|EB E 163RD ST @ SIMP|             SON ST|                  0|       1111|           C|                   T|                      NULL|                NULL|              NULL|         NULL|                  NULL|        2016|        NULL|             0|               NULL|2025-01-02 00:00:00|\n",
            "|    4042039777| 7GD1384|                MD|       PAS|             5|             Spor|       DODGE|             V|           0|           0|           0|                      0|              NULL|                 0|              0|          0|          NULL|        NULL|         0821A|               NULL|              BK|                             NULL|        NULL| EB FULTON ST @ BOND|                 ST|                  0|       1111|           C|                   T|                      NULL|                NULL|              NULL|         NULL|                  NULL|        2024|        NULL|             0|               NULL|2025-01-02 00:00:00|\n",
            "|    4042039789| 7GD1384|                MD|       PAS|             5|             Spor|       DODGE|             V|           0|           0|           0|                      0|              NULL|                 0|              0|          0|          NULL|        NULL|         0822A|               NULL|              BK|                             NULL|        NULL| EB FULTON ST @ BOND|                 ST|                  0|       1111|           C|                   T|                      NULL|                NULL|              NULL|         NULL|                  NULL|        2024|        NULL|             0|               NULL|2025-01-02 00:00:00|\n",
            "|    4042039935| 8270BF4|                AL|       PAS|             5|             HATC|       NISSA|             V|           0|           0|           0|                      0|              NULL|                 0|              0|          0|          NULL|        NULL|         0831A|               NULL|              BX|                             NULL|        NULL|SB WEBSTER AVE @ ITT|             NER PL|                  0|       1111|           C|                   T|                      NULL|                NULL|              NULL|         NULL|                  NULL|        2011|        NULL|             0|               NULL|2025-01-02 00:00:00|\n",
            "|    4042040068| SDP5790|                GA|       PAS|             5|               4S|       Volks|             V|           0|       40404|       40404|                      0|              NULL|                 0|              0|          0|          NULL|        NULL|         0845A|               NULL|              BK|                             NULL|        NULL|SB UTICA AVE @ AVE N|               NULL|                  0|       1111|           C|                   T|                      NULL|                NULL|              NULL|        WHITE|                  NULL|        2017|        NULL|             0|               NULL|2025-01-02 00:00:00|\n",
            "|    4042040093| BH98591|                CT|       PAS|             5|             SPOR|       TOYOT|             V|           0|           0|           0|                      0|              NULL|                 0|              0|          0|          NULL|        NULL|         0849A|               NULL|              BK|                             NULL|        NULL|NB UTICA AVE @ CHURC|              H AVE|                  0|       1111|           C|                   T|                      NULL|                NULL|              NULL|         NULL|                  NULL|        2023|        NULL|             0|               NULL|2025-01-02 00:00:00|\n",
            "|    4042040111| MHN3258|                PA|       PAS|             5|              SDN|       HONDA|             V|           0|           0|           0|                      0|              NULL|                 0|              0|          0|          NULL|        NULL|         0850A|               NULL|              BX|                             NULL|        NULL|SB WEBSTER AVE @ ITT|             NER PL|                  0|       1111|           C|                   T|                      NULL|                NULL|              NULL|         NULL|                  NULL|        2018|        NULL|             0|               NULL|2025-01-02 00:00:00|\n",
            "|    4042040123| MHN3258|                PA|       PAS|             5|              SDN|       HONDA|             V|           0|           0|           0|                      0|              NULL|                 0|              0|          0|          NULL|        NULL|         0850A|               NULL|              BX|                             NULL|        NULL|SB WEBSTER AVE @ ITT|             NER PL|                  0|       1111|           C|                   T|                      NULL|                NULL|              NULL|         NULL|                  NULL|        2018|        NULL|             0|               NULL|2025-01-02 00:00:00|\n",
            "|    4042040159| 7SFY448|                CA|       PAS|             5|               4D|       HONDA|             V|           0|           0|           0|                      0|              NULL|                 0|              0|          0|          NULL|        NULL|         0854A|               NULL|              QN|                             NULL|        NULL|WB JAMAICA AVE @ 168|              TH ST|                  0|       1111|           C|                   T|                      NULL|                NULL|              NULL|         NULL|                  NULL|        2015|        NULL|             0|               NULL|2025-01-02 00:00:00|\n",
            "|    4042040196| MRC8839|                PA|       PAS|             5|              SDN|       HYUND|             V|           0|           0|           0|                      0|              NULL|                 0|              0|          0|          NULL|        NULL|         0857A|               NULL|              QN|                             NULL|        NULL|SB MAIN ST @ 37TH AV|                  E|                  0|       1111|           C|                   T|                      NULL|                NULL|              NULL|         NULL|                  NULL|        2004|        NULL|             0|               NULL|2025-01-02 00:00:00|\n",
            "|    4042040226| ZXX7339|                PA|       PAS|             5|               TK|       FRUEH|             V|           0|           0|           0|                      0|              NULL|                 0|              0|          0|          NULL|        NULL|         0859A|               NULL|              BX|                             NULL|        NULL|NB BRONX RIVER AVE @|    BRUCKNER BLVD S|                  0|       1111|           C|                   T|                      NULL|                NULL|              NULL|         NULL|                  NULL|        2025|        NULL|             0|               NULL|2025-01-02 00:00:00|\n",
            "|    4042040238| BN77798|                CT|       PAS|             5|             SPOR|       TOYOT|             V|           0|           0|           0|                      0|              NULL|                 0|              0|          0|          NULL|        NULL|         0901A|               NULL|              BK|                             NULL|        NULL|SB NOSTRAND AVE @ LI|          NDEN BLVD|                  0|       1111|           C|                   T|                      NULL|                NULL|              NULL|         NULL|                  NULL|        2024|        NULL|             0|               NULL|2025-01-02 00:00:00|\n",
            "+--------------+--------+------------------+----------+--------------+-----------------+------------+--------------+------------+------------+------------+-----------------------+------------------+------------------+---------------+-----------+--------------+------------+--------------+-------------------+----------------+---------------------------------+------------+--------------------+-------------------+-------------------+-----------+------------+--------------------+--------------------------+--------------------+------------------+-------------+----------------------+------------+------------+--------------+-------------------+-------------------+\n",
            "only showing top 20 rows\n",
            "\n"
          ]
        }
      ]
    },
    {
      "cell_type": "code",
      "source": [
        "df.filter((df.vehicle_body_type == 'SPOR')& (df.violation_code != 5) & (df.violation_code != 36) ).show()"
      ],
      "metadata": {
        "colab": {
          "base_uri": "https://localhost:8080/"
        },
        "id": "tqLpQE4tkrKM",
        "outputId": "b41a5f3d-ffc4-4148-e1c3-5f09665ca0b9"
      },
      "execution_count": 108,
      "outputs": [
        {
          "output_type": "stream",
          "name": "stdout",
          "text": [
            "+--------------+--------+------------------+----------+--------------+-----------------+------------+--------------+------------+------------+------------+-----------------------+------------------+------------------+---------------+-----------+--------------+------------+--------------+-------------------+----------------+---------------------------------+------------+--------------------+--------------------+-------------------+-----------+------------+--------------------+--------------------------+--------------------+------------------+-------------+----------------------+------------+------------+--------------+-------------------+-------------------+\n",
            "|summons_number|plate_id|registration_state|plate_type|violation_code|vehicle_body_type|vehicle_make|issuing_agency|street_code1|street_code2|street_code3|vehicle_expiration_date|violation_location|violation_precinct|issuer_precinct|issuer_code|issuer_command|issuer_squad|violation_time|time_first_observed|violation_county|violation_in_front_of_or_opposite|house_number|         street_name| intersecting_street|date_first_observed|law_section|sub_division|violation_legal_code|days_parking_in_effect____|from_hours_in_effect|to_hours_in_effect|vehicle_color|unregistered_vehicle?:|vehicle_year|meter_number|feet_from_curb|violation_post_code|        issue_date2|\n",
            "+--------------+--------+------------------+----------+--------------+-----------------+------------+--------------+------------+------------+------------+-----------------------+------------------+------------------+---------------+-----------+--------------+------------+--------------+-------------------+----------------+---------------------------------+------------+--------------------+--------------------+-------------------+-----------+------------+--------------------+--------------------------+--------------------+------------------+-------------+----------------------+------------+------------+--------------+-------------------+-------------------+\n",
            "|    5139257063|  F29UGK|                NJ|       PAS|             7|             SPOR|       CADIL|             V|           0|           0|           0|                      0|              NULL|                 0|              0|          0|          NULL|        NULL|         0807A|               NULL|              BX|                             NULL|        NULL| GUN HILL ROAD (E/B)|    @ EASTCHESTER RD|                  0|       1111|           D|                   T|                      NULL|                NULL|              NULL|         NULL|                  NULL|        2013|        NULL|             0|               NULL|2025-01-02 00:00:00|\n",
            "|    5139257233|  H18SRL|                NJ|       PAS|             7|             SPOR|       HONDA|             V|           0|           0|           0|                      0|              NULL|                 0|              0|          0|          NULL|        NULL|         0830A|               NULL|              BK|                             NULL|        NULL| CLASSON AVE (N/B) @|        FLUSHING AVE|                  0|       1111|           D|                   T|                      NULL|                NULL|              NULL|         NULL|                  NULL|        2008|        NULL|             0|               NULL|2025-01-02 00:00:00|\n",
            "|    5139262654|  B38STV|                NJ|       PAS|             7|             SPOR|       VOLVO|             V|           0|           0|           0|                      0|              NULL|                 0|              0|          0|          NULL|        NULL|         0251A|               NULL|              BK|                             NULL|        NULL|OCEAN PKWY (N/B) @ A|                VE W|                  0|       1111|           D|                   T|                      NULL|                NULL|              NULL|         NULL|                  NULL|        2023|        NULL|             0|               NULL|2025-01-02 00:00:00|\n",
            "|    5139262666|  G97NUH|                NJ|       PAS|             7|             SPOR|        JEEP|             V|           0|           0|           0|                      0|              NULL|                 0|              0|          0|          NULL|        NULL|         0257A|               NULL|              QN|                             NULL|        NULL|L.I.E. N. SVC ROAD (|W/B) @ COLLEGE PT BL|                  0|       1111|           D|                   T|                      NULL|                NULL|              NULL|         NULL|                  NULL|        2021|        NULL|             0|               NULL|2025-01-02 00:00:00|\n",
            "|    5139262710|  Z44UHD|                NJ|       PAS|             7|             SPOR|       ROVER|             V|           0|           0|           0|                      0|              NULL|                 0|              0|          0|          NULL|        NULL|         0339A|               NULL|              QN|                             NULL|        NULL| CROSSBAY BLVD (S/B)|         @ 156TH AVE|                  0|       1111|           D|                   T|                      NULL|                NULL|              NULL|         NULL|                  NULL|        2024|        NULL|             0|               NULL|2025-01-02 00:00:00|\n",
            "|    5139262782|  S90PPU|                NJ|       PAS|             7|             SPOR|       SUBAR|             V|           0|           0|           0|                      0|              NULL|                 0|              0|          0|          NULL|        NULL|         0743A|               NULL|              ST|                             NULL|        NULL|FOREST AVE (E/B) @ S|            OUTH AVE|                  0|       1111|           D|                   T|                      NULL|                NULL|              NULL|         NULL|                  NULL|        2021|        NULL|             0|               NULL|2025-01-02 00:00:00|\n",
            "|    5139263488|  G37RMX|                NJ|       PAS|             7|             SPOR|         BMW|             V|           0|           0|           0|                      0|              NULL|                 0|              0|          0|          NULL|        NULL|         1017A|               NULL|              BK|                             NULL|        NULL|OCEAN PKWY (N/B) @ C|           HURCH AVE|                  0|       1111|           D|                   T|                      NULL|                NULL|              NULL|         NULL|                  NULL|        2023|        NULL|             0|               NULL|2025-01-02 00:00:00|\n",
            "|    5139263191|  A2UCNC|                AL|       PAS|             7|             SPOR|       HYUND|             V|           0|       27310|           0|                      0|              NULL|                 0|              0|          0|          NULL|        NULL|         1254A|               NULL|              BX|                             NULL|        NULL|ALLERTON AVE (E/B) @|     WHITE PLAINS RD|                  0|       1111|           D|                   T|                      NULL|                NULL|              NULL|         NULL|                  NULL|        2015|        NULL|             0|               NULL|2025-01-02 00:00:00|\n",
            "|    5139263671|  S53SEN|                NJ|       PAS|             7|             SPOR|        JEEP|             V|           0|           0|           0|                      0|              NULL|                 0|              0|          0|          NULL|        NULL|         1055A|               NULL|              BK|                             NULL|        NULL|ATLANTIC AVE (W/B) @|    PENNSYLVANIA AVE|                  0|       1111|           D|                   T|                      NULL|                NULL|              NULL|         NULL|                  NULL|        2009|        NULL|             0|               NULL|2025-01-02 00:00:00|\n",
            "|    5139263841|  5ASM25|                MA|       PAS|             7|             SPOR|       TOYOT|             V|           0|           0|           0|                      0|              NULL|                 0|              0|          0|          NULL|        NULL|         1110A|               NULL|              BX|                             NULL|        NULL|E 135TH ST (W/B) @ A|        LEXANDER AVE|                  0|       1111|           D|                   T|                      NULL|                NULL|              NULL|         NULL|                  NULL|        2024|        NULL|             0|               NULL|2025-01-02 00:00:00|\n",
            "|    5139264043|  Y38PAB|                NJ|       PAS|             7|             SPOR|       ROVER|             V|           0|           0|           0|                      0|              NULL|                 0|              0|          0|          NULL|        NULL|         1128A|               NULL|              ST|                             NULL|        NULL|VICTORY BLVD (W/B) @|           MORANI ST|                  0|       1111|           D|                   T|                      NULL|                NULL|              NULL|         NULL|                  NULL|        2018|        NULL|             0|               NULL|2025-01-02 00:00:00|\n",
            "|    5139264389|  474ULT|                CT|       PAS|             7|             SPOR|       ME/BE|             V|           0|           0|           0|                      0|              NULL|                 0|              0|          0|          NULL|        NULL|         1147A|               NULL|              BX|                             NULL|        NULL|E 135TH ST (W/B) @ A|        LEXANDER AVE|                  0|       1111|           D|                   T|                      NULL|                NULL|              NULL|         NULL|                  NULL|        2010|        NULL|             0|               NULL|2025-01-02 00:00:00|\n",
            "|    5139264638|  Z65UZR|                NJ|       PAS|             7|             SPOR|        JEEP|             V|           0|           0|           0|                      0|              NULL|                 0|              0|          0|          NULL|        NULL|         1212P|               NULL|              ST|                             NULL|        NULL|ARTHUR KILL RD (W/B)|      @ RICHMOND AVE|                  0|       1111|           D|                   T|                      NULL|                NULL|              NULL|         NULL|                  NULL|        2024|        NULL|             0|               NULL|2025-01-02 00:00:00|\n",
            "|    5139264640|  Z66SHF|                NJ|       PAS|             7|             SPOR|       CHEVR|             V|           0|           0|           0|                      0|              NULL|                 0|              0|          0|          NULL|        NULL|         1213P|               NULL|              BK|                             NULL|        NULL|BAY PKWY (S/B) @ 65T|                H ST|                  0|       1111|           D|                   T|                      NULL|                NULL|              NULL|         NULL|                  NULL|        2023|        NULL|             0|               NULL|2025-01-02 00:00:00|\n",
            "|    5139264894|  U52USY|                NJ|       PAS|             7|             SPOR|       LEXUS|             V|           0|           0|           0|                      0|              NULL|                 0|              0|          0|          NULL|        NULL|         1231P|               NULL|              BK|                             NULL|        NULL|BAY PKWY (S/B) @ 65T|                H ST|                  0|       1111|           D|                   T|                      NULL|                NULL|              NULL|         NULL|                  NULL|        2024|        NULL|             0|               NULL|2025-01-02 00:00:00|\n",
            "|    5139264973|  U70PJE|                NJ|       PAS|             7|             SPOR|        JEEP|             V|           0|           0|           0|                      0|              NULL|                 0|              0|          0|          NULL|        NULL|         1237P|               NULL|              BK|                             NULL|        NULL|FLATBUSH AVE (N/B) @|         GLENWOOD RD|                  0|       1111|           D|                   T|                      NULL|                NULL|              NULL|         NULL|                  NULL|        2021|        NULL|             0|               NULL|2025-01-02 00:00:00|\n",
            "|    5139265011|  T54UAN|                NJ|       PAS|             7|             SPOR|       HYUND|             V|           0|           0|           0|                      0|              NULL|                 0|              0|          0|          NULL|        NULL|         1239P|               NULL|              BK|                             NULL|        NULL|OCEAN PKWY (N/B) @ A|                VE W|                  0|       1111|           D|                   T|                      NULL|                NULL|              NULL|         NULL|                  NULL|        2024|        NULL|             0|               NULL|2025-01-02 00:00:00|\n",
            "|    5139265060|  C27RRN|                NJ|       PAS|             7|             SPOR|        JEEP|             V|           0|           0|           0|                      0|              NULL|                 0|              0|          0|          NULL|        NULL|         1244P|               NULL|              ST|                             NULL|        NULL|ARTHUR KILL RD (W/B)|       @ GIFFORDS LN|                  0|       1111|           D|                   T|                      NULL|                NULL|              NULL|         NULL|                  NULL|        2019|        NULL|             0|               NULL|2025-01-02 00:00:00|\n",
            "|    5139265072| DHANNOO|                NJ|       PAS|             7|             SPOR|       HONDA|             V|           0|           0|           0|                      0|              NULL|                 0|              0|          0|          NULL|        NULL|         1244P|               NULL|              ST|                             NULL|        NULL|FOREST AVE (E/B) @ S|            OUTH AVE|                  0|       1111|           D|                   T|                      NULL|                NULL|              NULL|         NULL|                  NULL|        2025|        NULL|             0|               NULL|2025-01-02 00:00:00|\n",
            "|    5139265266|  T23UNU|                NJ|       PAS|             7|             SPOR|        AUDI|             V|           0|           0|           0|                      0|              NULL|                 0|              0|          0|          NULL|        NULL|         1259P|               NULL|              ST|                             NULL|        NULL| RICHMOND RD (E/B) @|       NEW DORP LANE|                  0|       1111|           D|                   T|                      NULL|                NULL|              NULL|         NULL|                  NULL|        2020|        NULL|             0|               NULL|2025-01-02 00:00:00|\n",
            "+--------------+--------+------------------+----------+--------------+-----------------+------------+--------------+------------+------------+------------+-----------------------+------------------+------------------+---------------+-----------+--------------+------------+--------------+-------------------+----------------+---------------------------------+------------+--------------------+--------------------+-------------------+-----------+------------+--------------------+--------------------------+--------------------+------------------+-------------+----------------------+------------+------------+--------------+-------------------+-------------------+\n",
            "only showing top 20 rows\n",
            "\n"
          ]
        }
      ]
    },
    {
      "cell_type": "markdown",
      "source": [
        "## **New Columns**"
      ],
      "metadata": {
        "id": "MF9dgUZXnLjm"
      }
    },
    {
      "cell_type": "code",
      "source": [
        "#New column to see Month in the date\n",
        "df = df.withColumn('Month_Issue_Date', F.month('issue_date'))"
      ],
      "metadata": {
        "id": "bbW_Z--QmxXz"
      },
      "execution_count": 211,
      "outputs": []
    },
    {
      "cell_type": "code",
      "source": [
        "# Extract - F.regexp_extract(str, pattern, idx)\n",
        "df = df.withColumn('violation_day_time', F.regexp_extract('violation_time','(.)(.)(.)(.)(.)' ,5))\n",
        "\n"
      ],
      "metadata": {
        "id": "QsSCAa8V3sZf"
      },
      "execution_count": 212,
      "outputs": []
    },
    {
      "cell_type": "code",
      "source": [
        "# Regex Replace - F.regexp_replace(str, pattern, replacement)[source]\n",
        "df = df.withColumn('violation_day_time', F.regexp_replace('violation_day_time', 'A', 'Morning'))\n",
        "df = df.withColumn('violation_day_time', F.regexp_replace('violation_day_time', 'P', 'Afternoon'))"
      ],
      "metadata": {
        "id": "oMK6oRrBAvvs"
      },
      "execution_count": 213,
      "outputs": []
    },
    {
      "cell_type": "code",
      "source": [
        "df.show()"
      ],
      "metadata": {
        "colab": {
          "base_uri": "https://localhost:8080/"
        },
        "id": "xUhTCNJyzJQV",
        "outputId": "42f547ae-db90-45d9-896f-610958d9b8f6"
      },
      "execution_count": 214,
      "outputs": [
        {
          "output_type": "stream",
          "name": "stdout",
          "text": [
            "+--------------+--------+------------------+----------+--------------+-----------------+------------+--------------+------------+------------+------------+-----------------------+------------------+------------------+---------------+-----------+--------------+------------+--------------+-------------------+----------------+---------------------------------+------------+--------------------+-------------------+-------------------+-----------+------------+--------------------+--------------------------+--------------------+------------------+-------------+----------------------+------------+------------+--------------+-------------------+-------------------+----------------+------------------+\n",
            "|summons_number|plate_id|registration_state|plate_type|violation_code|vehicle_body_type|vehicle_make|issuing_agency|street_code1|street_code2|street_code3|vehicle_expiration_date|violation_location|violation_precinct|issuer_precinct|issuer_code|issuer_command|issuer_squad|violation_time|time_first_observed|violation_county|violation_in_front_of_or_opposite|house_number|         street_name|intersecting_street|date_first_observed|law_section|sub_division|violation_legal_code|days_parking_in_effect____|from_hours_in_effect|to_hours_in_effect|vehicle_color|unregistered_vehicle?:|vehicle_year|meter_number|feet_from_curb|violation_post_code|         issue_date|Month_Issue_Date|violation_day_time|\n",
            "+--------------+--------+------------------+----------+--------------+-----------------+------------+--------------+------------+------------+------------+-----------------------+------------------+------------------+---------------+-----------+--------------+------------+--------------+-------------------+----------------+---------------------------------+------------+--------------------+-------------------+-------------------+-----------+------------+--------------------+--------------------------+--------------------+------------------+-------------+----------------------+------------+------------+--------------+-------------------+-------------------+----------------+------------------+\n",
            "|    1492814167| JEA3777|                NY|       PAS|            20|             TAXI|       VOLVO|             P|           0|       40404|       40404|               20250102|              0088|                88|            803|     950192|          0803|        0000|         0621P|               NULL|               K|                                F|         125|      NORTH PORTLAND|               NULL|                  0|        408|          F1|                NULL|                   BBBBBBB|                 ALL|               ALL|          BLK|                     0|        2011|           -|             0|               NULL|2025-01-02 00:00:00|               1|         Afternoon|\n",
            "|    4042039145| KKA8982|                NY|       PAS|             5|             4DSD|       HYUND|             V|           0|           0|           0|                      0|              NULL|                 0|              0|          0|          NULL|        NULL|         0702A|               NULL|              BK|                             NULL|        NULL|WB CHURCH AVE @ E 8T|               H ST|                  0|       1111|           C|                   T|                      NULL|                NULL|              NULL|           RD|                  NULL|        2020|        NULL|             0|               NULL|2025-01-02 00:00:00|               1|           Morning|\n",
            "|    4042039510| MSA3480|                PA|       PAS|             5|               CP|         BMW|             V|           0|           0|           0|                      0|              NULL|                 0|              0|          0|          NULL|        NULL|         0757A|               NULL|              QN|                             NULL|        NULL|EB JAMAICA AVE @ SUT|          PHIN BLVD|                  0|       1111|           C|                   T|                      NULL|                NULL|              NULL|         NULL|                  NULL|        2021|        NULL|             0|               NULL|2025-01-02 00:00:00|               1|           Morning|\n",
            "|    4042039522| 63383NA|                NY|       COM|             5|              VAN|       CHEVR|             V|           0|           0|           0|                      0|              NULL|                 0|              0|          0|          NULL|        NULL|         0758A|               NULL|              BK|                             NULL|        NULL|WB FULTON ST @ LAWRE|             NCE ST|                  0|       1111|           C|                   T|                      NULL|                NULL|              NULL|           WH|                  NULL|        2020|        NULL|             0|               NULL|2025-01-02 00:00:00|               1|           Morning|\n",
            "|    4042039534| 63383NA|                NY|       COM|             5|              VAN|       CHEVR|             V|           0|           0|           0|                      0|              NULL|                 0|              0|          0|          NULL|        NULL|         0758A|               NULL|              BK|                             NULL|        NULL|WB FULTON ST @ LAWRE|             NCE ST|                  0|       1111|           C|                   T|                      NULL|                NULL|              NULL|           WH|                  NULL|        2020|        NULL|             0|               NULL|2025-01-02 00:00:00|               1|           Morning|\n",
            "|    4042039546| LWL6395|                PA|       PAS|             5|              SDN|       LEXUS|             V|           0|           0|           0|                      0|              NULL|                 0|              0|          0|          NULL|        NULL|         0759A|               NULL|              BK|                             NULL|        NULL|NB ROGERS AVE @ MONT|          GOMERY ST|                  0|       1111|           C|                   T|                      NULL|                NULL|              NULL|         NULL|                  NULL|        2019|        NULL|             0|               NULL|2025-01-02 00:00:00|               1|           Morning|\n",
            "|    4042039558| 22312NE|                NY|       COM|             5|             DELV|       FRUEH|             V|           0|           0|           0|                      0|              NULL|                 0|              0|          0|          NULL|        NULL|         0759A|               NULL|              BK|                             NULL|        NULL|EB CHURCH AVE @ CONE|       Y ISLAND AVE|                  0|       1111|           C|                   T|                      NULL|                NULL|              NULL|           GR|                  NULL|        2024|        NULL|             0|               NULL|2025-01-02 00:00:00|               1|           Morning|\n",
            "|    4042039560|T131642C|                NY|       OMT|             5|             SUBN|       TOYOT|             V|           0|           0|           0|                      0|              NULL|                 0|              0|          0|          NULL|        NULL|         0804A|               NULL|              QN|                             NULL|        NULL| NB WOODHAVEN BLVD @|           97TH AVE|                  0|       1111|           C|                   T|                      NULL|                NULL|              NULL|           GY|                  NULL|        2023|        NULL|             0|               NULL|2025-01-02 00:00:00|               1|           Morning|\n",
            "|    4042039571| TKT1742|                TX|       PAS|             5|               LL|       TOYOT|             V|           0|           0|           0|                      0|              NULL|                 0|              0|          0|          NULL|        NULL|         0806A|               NULL|              BX|                             NULL|        NULL|SB WEBSTER AVE @ E 1|            94TH ST|                  0|       1111|           C|                   T|                      NULL|                NULL|              NULL|         NULL|                  NULL|        2011|        NULL|             0|               NULL|2025-01-02 00:00:00|               1|           Morning|\n",
            "|    4042039583|T799929C|                NY|       OMT|             5|             4DSD|       TOYOT|             V|           0|           0|           0|                      0|              NULL|                 0|              0|          0|          NULL|        NULL|         0806A|               NULL|              BK|                             NULL|        NULL|WB KINGS HIGHWAY @ E|            37TH ST|                  0|       1111|           C|                   T|                      NULL|                NULL|              NULL|           BK|                  NULL|        2015|        NULL|             0|               NULL|2025-01-02 00:00:00|               1|           Morning|\n",
            "|    4042039595| KLA7363|                NY|       PAS|             5|             SUBN|       TOYOT|             V|           0|           0|           0|                      0|              NULL|                 0|              0|          0|          NULL|        NULL|         0807A|               NULL|              QN|                             NULL|        NULL|SB MAIN ST @ SANFORD|                AVE|                  0|       1111|           C|                   T|                      NULL|                NULL|              NULL|           GY|                  NULL|        2018|        NULL|             0|               NULL|2025-01-02 00:00:00|               1|           Morning|\n",
            "|    4042039601| LJP3596|                NY|       PAS|             5|             PICK|       NISSA|             V|           0|           0|           0|                      0|              NULL|                 0|              0|          0|          NULL|        NULL|         0810A|               NULL|              QN|                             NULL|        NULL|WB JAMAICA AVE @ 168|              TH ST|                  0|       1111|           C|                   T|                      NULL|                NULL|              NULL|           GY|                  NULL|        2023|        NULL|             0|               NULL|2025-01-02 00:00:00|               1|           Morning|\n",
            "|    4042039613|  M98RUH|                NJ|       PAS|             5|             SEDA|       HONDA|             V|           0|           0|           0|                      0|              NULL|                 0|              0|          0|          NULL|        NULL|         0810A|               NULL|              BK|                             NULL|        NULL|NB ROGERS AVE @ MONT|          GOMERY ST|                  0|       1111|           C|                   T|                      NULL|                NULL|              NULL|         NULL|                  NULL|        2012|        NULL|             0|               NULL|2025-01-02 00:00:00|               1|           Morning|\n",
            "|    4042039625| LSG3024|                PA|       PAS|             5|              SDN|       INFIN|             V|           0|           0|           0|                      0|              NULL|                 0|              0|          0|          NULL|        NULL|         0811A|               NULL|              QN|                             NULL|        NULL|SB MERRICK BLVD @ BA|         ISLEY BLVD|                  0|       1111|           C|                   T|                      NULL|                NULL|              NULL|         NULL|                  NULL|        2018|        NULL|             0|               NULL|2025-01-02 00:00:00|               1|           Morning|\n",
            "|    4042039637| LAP5753|                NY|       PAS|             5|             SUBN|       HONDA|             V|           0|           0|           0|                      0|              NULL|                 0|              0|          0|          NULL|        NULL|         0812A|               NULL|              MN|                             NULL|        NULL|EB W 181ST ST @ WADS|          WORTH AVE|                  0|       1111|           C|                   T|                      NULL|                NULL|              NULL|         LTBK|                  NULL|        2019|        NULL|             0|               NULL|2025-01-02 00:00:00|               1|           Morning|\n",
            "|    4042039649| LFM6699|                NY|       PAS|             5|             SUBN|        JEEP|             V|           0|           0|           0|                      0|              NULL|                 0|              0|          0|          NULL|        NULL|         0813A|               NULL|              BK|                             NULL|        NULL|NB SMITH ST @ FULTON|               MALL|                  0|       1111|           C|                   T|                      NULL|                NULL|              NULL|           BK|                  NULL|        2024|        NULL|             0|               NULL|2025-01-02 00:00:00|               1|           Morning|\n",
            "|    4042039650| DNW2856|                NY|       PAS|             5|             SUBN|       NISSA|             V|           0|           0|           0|                      0|              NULL|                 0|              0|          0|          NULL|        NULL|         0813A|               NULL|              BK|                             NULL|        NULL|SB NOSTRAND AVE @ EA|         STERN PKWY|                  0|       1111|           C|                   T|                      NULL|                NULL|              NULL|           BK|                  NULL|        2005|        NULL|             0|               NULL|2025-01-02 00:00:00|               1|           Morning|\n",
            "|    4042039662| JPL1592|                NY|       PAS|             5|             SUBN|       HYUND|             V|           0|           0|           0|                      0|              NULL|                 0|              0|          0|          NULL|        NULL|         0814A|               NULL|              QN|                             NULL|        NULL|SB MERRICK BLVD @ BA|         ISLEY BLVD|                  0|       1111|           C|                   T|                      NULL|                NULL|              NULL|           GY|                  NULL|        2022|        NULL|             0|               NULL|2025-01-02 00:00:00|               1|           Morning|\n",
            "|    4042039674| KYN5423|                NY|       PAS|             5|             SUBN|       HONDA|             V|           0|           0|           0|                      0|              NULL|                 0|              0|          0|          NULL|        NULL|         0815A|               NULL|              ST|                             NULL|        NULL|NB HYLAN BLVD @ MIDL|            AND AVE|                  0|       1111|           C|                   T|                      NULL|                NULL|              NULL|           BL|                  NULL|        2009|        NULL|             0|               NULL|2025-01-02 00:00:00|               1|           Morning|\n",
            "|    4042039686| 565202T|                TN|       PAS|             5|             NULL|        LANL|             V|           0|           0|           0|                      0|              NULL|                 0|              0|          0|          NULL|        NULL|         0816A|               NULL|              BK|                             NULL|        NULL|WB FULTON ST @ LAWRE|             NCE ST|                  0|       1111|           C|                   T|                      NULL|                NULL|              NULL|         NULL|                  NULL|        2025|        NULL|             0|               NULL|2025-01-02 00:00:00|               1|           Morning|\n",
            "+--------------+--------+------------------+----------+--------------+-----------------+------------+--------------+------------+------------+------------+-----------------------+------------------+------------------+---------------+-----------+--------------+------------+--------------+-------------------+----------------+---------------------------------+------------+--------------------+-------------------+-------------------+-----------+------------+--------------------+--------------------------+--------------------+------------------+-------------+----------------------+------------+------------+--------------+-------------------+-------------------+----------------+------------------+\n",
            "only showing top 20 rows\n",
            "\n"
          ]
        }
      ]
    },
    {
      "cell_type": "markdown",
      "source": [
        "## **Queries**"
      ],
      "metadata": {
        "id": "DxtFFFFhncQH"
      }
    },
    {
      "cell_type": "code",
      "source": [
        "df_data = df\n",
        "df2_data =df2"
      ],
      "metadata": {
        "id": "muW4I2GfnujY"
      },
      "execution_count": 238,
      "outputs": []
    },
    {
      "cell_type": "code",
      "source": [
        "df_data.createOrReplaceTempView('tickets')\n",
        "df2_data.createOrReplaceTempView('codes')"
      ],
      "metadata": {
        "id": "W01gJEDLIOds"
      },
      "execution_count": 239,
      "outputs": []
    },
    {
      "cell_type": "markdown",
      "source": [
        "**Top 10 Most Frequent Violation Areas**"
      ],
      "metadata": {
        "id": "7g4tGlVy8Boo"
      }
    },
    {
      "cell_type": "code",
      "source": [
        "df.filter(df.street_code1.isNull()).show()"
      ],
      "metadata": {
        "colab": {
          "base_uri": "https://localhost:8080/"
        },
        "id": "BBPZpRax8Djm",
        "outputId": "f05d60b9-4df4-44c5-d461-731ca6ed0f15"
      },
      "execution_count": 248,
      "outputs": [
        {
          "output_type": "stream",
          "name": "stdout",
          "text": [
            "+--------------+--------+------------------+----------+--------------+-----------------+------------+--------------+------------+------------+------------+-----------------------+------------------+------------------+---------------+-----------+--------------+------------+--------------+-------------------+----------------+---------------------------------+------------+-----------+-------------------+-------------------+-----------+------------+--------------------+--------------------------+--------------------+------------------+-------------+----------------------+------------+------------+--------------+-------------------+----------+----------------+------------------+\n",
            "|summons_number|plate_id|registration_state|plate_type|violation_code|vehicle_body_type|vehicle_make|issuing_agency|street_code1|street_code2|street_code3|vehicle_expiration_date|violation_location|violation_precinct|issuer_precinct|issuer_code|issuer_command|issuer_squad|violation_time|time_first_observed|violation_county|violation_in_front_of_or_opposite|house_number|street_name|intersecting_street|date_first_observed|law_section|sub_division|violation_legal_code|days_parking_in_effect____|from_hours_in_effect|to_hours_in_effect|vehicle_color|unregistered_vehicle?:|vehicle_year|meter_number|feet_from_curb|violation_post_code|issue_date|Month_Issue_Date|violation_day_time|\n",
            "+--------------+--------+------------------+----------+--------------+-----------------+------------+--------------+------------+------------+------------+-----------------------+------------------+------------------+---------------+-----------+--------------+------------+--------------+-------------------+----------------+---------------------------------+------------+-----------+-------------------+-------------------+-----------+------------+--------------------+--------------------------+--------------------+------------------+-------------+----------------------+------------+------------+--------------+-------------------+----------+----------------+------------------+\n",
            "+--------------+--------+------------------+----------+--------------+-----------------+------------+--------------+------------+------------+------------+-----------------------+------------------+------------------+---------------+-----------+--------------+------------+--------------+-------------------+----------------+---------------------------------+------------+-----------+-------------------+-------------------+-----------+------------+--------------------+--------------------------+--------------------+------------------+-------------+----------------------+------------+------------+--------------+-------------------+----------+----------------+------------------+\n",
            "\n"
          ]
        }
      ]
    },
    {
      "cell_type": "code",
      "source": [
        "f_sc1_df = df.filter(df.street_code1 != 0)\n",
        "f_sc1_df.count()"
      ],
      "metadata": {
        "colab": {
          "base_uri": "https://localhost:8080/"
        },
        "id": "eLgAK5GN8GJp",
        "outputId": "052d5093-9421-4138-fe2a-10f2142185cf"
      },
      "execution_count": 249,
      "outputs": [
        {
          "output_type": "execute_result",
          "data": {
            "text/plain": [
              "1895416"
            ]
          },
          "metadata": {},
          "execution_count": 249
        }
      ]
    },
    {
      "cell_type": "code",
      "source": [
        "f_sc1_df.createOrReplaceTempView(\"f_sc1_tickets\")"
      ],
      "metadata": {
        "id": "z7yBId-68PxK"
      },
      "execution_count": 250,
      "outputs": []
    },
    {
      "cell_type": "code",
      "source": [
        "top10_df = spark.sql(\"\"\"\n",
        "    SELECT `violation_county`, `street_code1`, COUNT(*) AS ticket_count\n",
        "    FROM f_sc1_tickets\n",
        "    GROUP BY `violation_county`, `street_code1`\n",
        "    ORDER BY ticket_count DESC\n",
        "    LIMIT 10\n",
        "    \"\"\").show()"
      ],
      "metadata": {
        "colab": {
          "base_uri": "https://localhost:8080/"
        },
        "id": "bU7qqhIm8SHe",
        "outputId": "a5bdb0b5-4f0f-4e43-d3b7-9fa45c1e8939"
      },
      "execution_count": 251,
      "outputs": [
        {
          "output_type": "stream",
          "name": "stdout",
          "text": [
            "+----------------+------------+------------+\n",
            "|violation_county|street_code1|ticket_count|\n",
            "+----------------+------------+------------+\n",
            "|              NY|       13610|       33119|\n",
            "|              NY|       10210|       21732|\n",
            "|              NY|       25390|       18271|\n",
            "|              NY|       24890|       15376|\n",
            "|              NY|       10110|       14880|\n",
            "|              NY|       10010|       14050|\n",
            "|              NY|       10410|       13140|\n",
            "|              NY|       11710|       11266|\n",
            "|               K|       28830|       10781|\n",
            "|              NY|       10510|       10276|\n",
            "+----------------+------------+------------+\n",
            "\n"
          ]
        }
      ]
    },
    {
      "cell_type": "markdown",
      "source": [
        "| Code | Administrative District\n",
        "\n",
        "\n",
        "---\n",
        "\n",
        "\n",
        "| NY |\tManhattan\n",
        "\n",
        "| K |\tBrooklyn"
      ],
      "metadata": {
        "id": "Jr1rYnRB8aXu"
      }
    },
    {
      "cell_type": "code",
      "source": [
        "top10_df = spark.sql(\"\"\"\n",
        "    SELECT\n",
        "        CASE\n",
        "            WHEN `violation_county` IN ('K') THEN 'Brooklyn'\n",
        "            WHEN `violation_county` IN ('NY') THEN 'Manhattan'\n",
        "            ELSE `violation_county`\n",
        "        END AS `violation_county`,\n",
        "        `street_code1`,\n",
        "        COUNT(*) AS ticket_count\n",
        "    FROM f_sc1_tickets\n",
        "    GROUP BY `violation_county`, `street_code1`\n",
        "    ORDER BY ticket_count DESC\n",
        "    LIMIT 10\n",
        "\"\"\")\n",
        "\n",
        "top10_df.show()"
      ],
      "metadata": {
        "colab": {
          "base_uri": "https://localhost:8080/"
        },
        "id": "dwNkUccN8ZdY",
        "outputId": "eba68fc6-03d2-409c-aa5b-1bb2cec7c816"
      },
      "execution_count": 252,
      "outputs": [
        {
          "output_type": "stream",
          "name": "stdout",
          "text": [
            "+----------------+------------+------------+\n",
            "|violation_county|street_code1|ticket_count|\n",
            "+----------------+------------+------------+\n",
            "|       Manhattan|       13610|       33119|\n",
            "|       Manhattan|       10210|       21732|\n",
            "|       Manhattan|       25390|       18271|\n",
            "|       Manhattan|       24890|       15376|\n",
            "|       Manhattan|       10110|       14880|\n",
            "|       Manhattan|       10010|       14050|\n",
            "|       Manhattan|       10410|       13140|\n",
            "|       Manhattan|       11710|       11266|\n",
            "|        Brooklyn|       28830|       10781|\n",
            "|       Manhattan|       10510|       10276|\n",
            "+----------------+------------+------------+\n",
            "\n"
          ]
        }
      ]
    },
    {
      "cell_type": "markdown",
      "source": [
        "**Top 5 For Each Most Frequent Violation Areas.**"
      ],
      "metadata": {
        "id": "YqmTuqo38lRE"
      }
    },
    {
      "cell_type": "code",
      "source": [
        "top5_df = spark.sql(\"\"\"\n",
        "WITH renamed_tickets AS (\n",
        "  SELECT\n",
        "    CASE\n",
        "      WHEN `violation_county` IN ('K', 'BK') THEN 'Brooklyn'\n",
        "      WHEN `violation_county` = 'NY' THEN 'Manhattan'\n",
        "      ELSE 'Other'\n",
        "    END AS borough,\n",
        "    `street_code1`,\n",
        "    COUNT(*) AS ticket_count\n",
        "  FROM f_sc1_tickets\n",
        "  WHERE `violation_county` IN ('K', 'BK', 'NY')\n",
        "  GROUP BY borough, `street_code1`\n",
        "),\n",
        "ranked_per_borough AS (\n",
        "  SELECT *,\n",
        "         ROW_NUMBER() OVER(PARTITION BY borough ORDER BY ticket_count DESC) AS rank\n",
        "  FROM renamed_tickets\n",
        ")\n",
        "SELECT *\n",
        "FROM ranked_per_borough\n",
        "WHERE rank <= 5\n",
        "ORDER BY ticket_count DESC, borough\n",
        "    \"\"\").show()"
      ],
      "metadata": {
        "colab": {
          "base_uri": "https://localhost:8080/"
        },
        "id": "FDjt5XS-8mT-",
        "outputId": "9f0d0d33-431c-41a2-c5b5-b1c6770fb3ce"
      },
      "execution_count": 253,
      "outputs": [
        {
          "output_type": "stream",
          "name": "stdout",
          "text": [
            "+---------+------------+------------+----+\n",
            "|  borough|street_code1|ticket_count|rank|\n",
            "+---------+------------+------------+----+\n",
            "|Manhattan|       13610|       33119|   1|\n",
            "|Manhattan|       10210|       21732|   2|\n",
            "|Manhattan|       25390|       18271|   3|\n",
            "|Manhattan|       24890|       15376|   4|\n",
            "|Manhattan|       10110|       14880|   5|\n",
            "| Brooklyn|       28830|       10781|   1|\n",
            "| Brooklyn|       67730|        5859|   2|\n",
            "| Brooklyn|       13430|        5320|   3|\n",
            "| Brooklyn|        5580|        5306|   4|\n",
            "| Brooklyn|       54050|        4866|   5|\n",
            "+---------+------------+------------+----+\n",
            "\n"
          ]
        }
      ]
    },
    {
      "cell_type": "markdown",
      "source": [
        "| Code | Administrative District\n",
        "\n",
        "\n",
        "---\n",
        "\n",
        "\n",
        "| NY |\tManhattan\n",
        "\n",
        "| K |\tBrooklyn\n",
        "\n",
        "| BK |\tBrooklyn（Old Writing Style）"
      ],
      "metadata": {
        "id": "IQnDJEnK8uDX"
      }
    },
    {
      "cell_type": "markdown",
      "source": [
        "**What is the Top3 common issuing agency?**"
      ],
      "metadata": {
        "id": "_UB0nD_N8yzs"
      }
    },
    {
      "cell_type": "code",
      "source": [
        "df.filter(df.issuing_agency.isNull()).show()"
      ],
      "metadata": {
        "colab": {
          "base_uri": "https://localhost:8080/"
        },
        "id": "bAhDTjbc9iXy",
        "outputId": "ee6b4f41-f4b1-45ba-d521-50663c1bfc03"
      },
      "execution_count": 254,
      "outputs": [
        {
          "output_type": "stream",
          "name": "stdout",
          "text": [
            "+--------------+--------+------------------+----------+--------------+-----------------+------------+--------------+------------+------------+------------+-----------------------+------------------+------------------+---------------+-----------+--------------+------------+--------------+-------------------+----------------+---------------------------------+------------+-----------+-------------------+-------------------+-----------+------------+--------------------+--------------------------+--------------------+------------------+-------------+----------------------+------------+------------+--------------+-------------------+----------+----------------+------------------+\n",
            "|summons_number|plate_id|registration_state|plate_type|violation_code|vehicle_body_type|vehicle_make|issuing_agency|street_code1|street_code2|street_code3|vehicle_expiration_date|violation_location|violation_precinct|issuer_precinct|issuer_code|issuer_command|issuer_squad|violation_time|time_first_observed|violation_county|violation_in_front_of_or_opposite|house_number|street_name|intersecting_street|date_first_observed|law_section|sub_division|violation_legal_code|days_parking_in_effect____|from_hours_in_effect|to_hours_in_effect|vehicle_color|unregistered_vehicle?:|vehicle_year|meter_number|feet_from_curb|violation_post_code|issue_date|Month_Issue_Date|violation_day_time|\n",
            "+--------------+--------+------------------+----------+--------------+-----------------+------------+--------------+------------+------------+------------+-----------------------+------------------+------------------+---------------+-----------+--------------+------------+--------------+-------------------+----------------+---------------------------------+------------+-----------+-------------------+-------------------+-----------+------------+--------------------+--------------------------+--------------------+------------------+-------------+----------------------+------------+------------+--------------+-------------------+----------+----------------+------------------+\n",
            "+--------------+--------+------------------+----------+--------------+-----------------+------------+--------------+------------+------------+------------+-----------------------+------------------+------------------+---------------+-----------+--------------+------------+--------------+-------------------+----------------+---------------------------------+------------+-----------+-------------------+-------------------+-----------+------------+--------------------+--------------------------+--------------------+------------------+-------------+----------------------+------------+------------+--------------+-------------------+----------+----------------+------------------+\n",
            "\n"
          ]
        }
      ]
    },
    {
      "cell_type": "code",
      "source": [
        "df.createOrReplaceTempView(\"f_ia_tickets\")"
      ],
      "metadata": {
        "id": "wTPELzZH9pJb"
      },
      "execution_count": 255,
      "outputs": []
    },
    {
      "cell_type": "code",
      "source": [
        "top3_df = spark.sql(\"\"\"\n",
        "WITH agency_counts AS (\n",
        "  SELECT\n",
        "    `issuing_agency`,\n",
        "    COUNT(*) AS ticket_count\n",
        "  FROM f_ia_tickets\n",
        "  GROUP BY `issuing_agency`\n",
        "),\n",
        "ranked_agencies AS (\n",
        "  SELECT *,\n",
        "         RANK() OVER (ORDER BY ticket_count DESC) AS rank\n",
        "  FROM agency_counts\n",
        ")\n",
        "SELECT *\n",
        "FROM ranked_agencies\n",
        "WHERE rank <= 3\n",
        "ORDER BY ticket_count DESC\n",
        "    \"\"\").show()"
      ],
      "metadata": {
        "id": "dTy5OaQb9rQL"
      },
      "execution_count": null,
      "outputs": []
    },
    {
      "cell_type": "markdown",
      "source": [
        "T-TRAFFIC\n",
        "\n",
        "V-DEPARTMENT OF TRANSPORTATION\n",
        "\n",
        "M-TRANSIT AUTHORITY"
      ],
      "metadata": {
        "id": "oa59IqY09ws6"
      }
    },
    {
      "cell_type": "markdown",
      "source": [
        "**What is the most common violation code?**"
      ],
      "metadata": {
        "id": "GbWfex9v91BI"
      }
    },
    {
      "cell_type": "code",
      "source": [
        "df.filter(df.violation_code.isNull()).show()"
      ],
      "metadata": {
        "colab": {
          "base_uri": "https://localhost:8080/"
        },
        "id": "B7qR9SEz92Vb",
        "outputId": "5af05e77-4980-4465-d162-c9b4b7322fa5"
      },
      "execution_count": 256,
      "outputs": [
        {
          "output_type": "stream",
          "name": "stdout",
          "text": [
            "+--------------+--------+------------------+----------+--------------+-----------------+------------+--------------+------------+------------+------------+-----------------------+------------------+------------------+---------------+-----------+--------------+------------+--------------+-------------------+----------------+---------------------------------+------------+-----------+-------------------+-------------------+-----------+------------+--------------------+--------------------------+--------------------+------------------+-------------+----------------------+------------+------------+--------------+-------------------+----------+----------------+------------------+\n",
            "|summons_number|plate_id|registration_state|plate_type|violation_code|vehicle_body_type|vehicle_make|issuing_agency|street_code1|street_code2|street_code3|vehicle_expiration_date|violation_location|violation_precinct|issuer_precinct|issuer_code|issuer_command|issuer_squad|violation_time|time_first_observed|violation_county|violation_in_front_of_or_opposite|house_number|street_name|intersecting_street|date_first_observed|law_section|sub_division|violation_legal_code|days_parking_in_effect____|from_hours_in_effect|to_hours_in_effect|vehicle_color|unregistered_vehicle?:|vehicle_year|meter_number|feet_from_curb|violation_post_code|issue_date|Month_Issue_Date|violation_day_time|\n",
            "+--------------+--------+------------------+----------+--------------+-----------------+------------+--------------+------------+------------+------------+-----------------------+------------------+------------------+---------------+-----------+--------------+------------+--------------+-------------------+----------------+---------------------------------+------------+-----------+-------------------+-------------------+-----------+------------+--------------------+--------------------------+--------------------+------------------+-------------+----------------------+------------+------------+--------------+-------------------+----------+----------------+------------------+\n",
            "+--------------+--------+------------------+----------+--------------+-----------------+------------+--------------+------------+------------+------------+-----------------------+------------------+------------------+---------------+-----------+--------------+------------+--------------+-------------------+----------------+---------------------------------+------------+-----------+-------------------+-------------------+-----------+------------+--------------------+--------------------------+--------------------+------------------+-------------+----------------------+------------+------------+--------------+-------------------+----------+----------------+------------------+\n",
            "\n"
          ]
        }
      ]
    },
    {
      "cell_type": "code",
      "source": [
        "df2.filter(df2.violation_code.isNull()).show()"
      ],
      "metadata": {
        "colab": {
          "base_uri": "https://localhost:8080/"
        },
        "id": "ZRKjPLA794wk",
        "outputId": "5d8f79de-4b52-4eb3-f9ea-bd4ec3c69106"
      },
      "execution_count": 258,
      "outputs": [
        {
          "output_type": "stream",
          "name": "stdout",
          "text": [
            "+--------------+---------------------+---------------+------------+\n",
            "|violation_code|violation_description|manhattan_finea|others_finea|\n",
            "+--------------+---------------------+---------------+------------+\n",
            "+--------------+---------------------+---------------+------------+\n",
            "\n"
          ]
        }
      ]
    },
    {
      "cell_type": "code",
      "source": [
        "top10_vc_df = spark.sql(\"\"\"\n",
        "    SELECT\n",
        "      t.`violation_code`,\n",
        "      COUNT(*) AS ticket_count,\n",
        "      vc.`violation_description`\n",
        "    FROM tickets AS t\n",
        "    JOIN codes AS vc\n",
        "    ON t.`violation_code` = vc.`violation_code`\n",
        "    GROUP BY t.`violation_code`, vc.`violation_description`\n",
        "    ORDER BY ticket_count DESC\n",
        "    LIMIT 10\n",
        "    \"\"\").show(truncate=False)"
      ],
      "metadata": {
        "colab": {
          "base_uri": "https://localhost:8080/"
        },
        "id": "_UKI8pSa-W5K",
        "outputId": "93c9a296-a5f0-4db6-d618-924bac66bea5"
      },
      "execution_count": 259,
      "outputs": [
        {
          "output_type": "stream",
          "name": "stdout",
          "text": [
            "+--------------+------------+------------------------------+\n",
            "|violation_code|ticket_count|violation_description         |\n",
            "+--------------+------------+------------------------------+\n",
            "|36            |938024      |PHTO SCHOOL ZN SPEED VIOLATION|\n",
            "|21            |398682      |NO PARKING-STREET CLEANING    |\n",
            "|38            |272844      |FAIL TO DSPLY MUNI METER RECPT|\n",
            "|14            |191770      |NO STANDING-DAY/TIME LIMITS   |\n",
            "|43            |162783      |EXPIRED METER-COMM METER ZONE |\n",
            "|5             |152779      |BUS LANE VIOLATION            |\n",
            "|40            |148959      |FIRE HYDRANT                  |\n",
            "|15            |138523      |NO STANDING-OFF-STREET LOT    |\n",
            "|20            |129074      |NO PARKING-DAY/TIME LIMITS    |\n",
            "|7             |124776      |FAILURE TO STOP AT RED LIGHT  |\n",
            "+--------------+------------+------------------------------+\n",
            "\n"
          ]
        }
      ]
    },
    {
      "cell_type": "markdown",
      "source": [
        "**Which vehicle years have the most violations?**"
      ],
      "metadata": {
        "id": "bR-OAMDO-x0q"
      }
    },
    {
      "cell_type": "code",
      "source": [
        "df.filter(df.vehicle_year.isNull()).show()"
      ],
      "metadata": {
        "colab": {
          "base_uri": "https://localhost:8080/"
        },
        "id": "_DYgLST2-y-L",
        "outputId": "72d6c547-23b0-4a3c-e816-4a000fea70bd"
      },
      "execution_count": 260,
      "outputs": [
        {
          "output_type": "stream",
          "name": "stdout",
          "text": [
            "+--------------+--------+------------------+----------+--------------+-----------------+------------+--------------+------------+------------+------------+-----------------------+------------------+------------------+---------------+-----------+--------------+------------+--------------+-------------------+----------------+---------------------------------+------------+-----------+-------------------+-------------------+-----------+------------+--------------------+--------------------------+--------------------+------------------+-------------+----------------------+------------+------------+--------------+-------------------+----------+----------------+------------------+\n",
            "|summons_number|plate_id|registration_state|plate_type|violation_code|vehicle_body_type|vehicle_make|issuing_agency|street_code1|street_code2|street_code3|vehicle_expiration_date|violation_location|violation_precinct|issuer_precinct|issuer_code|issuer_command|issuer_squad|violation_time|time_first_observed|violation_county|violation_in_front_of_or_opposite|house_number|street_name|intersecting_street|date_first_observed|law_section|sub_division|violation_legal_code|days_parking_in_effect____|from_hours_in_effect|to_hours_in_effect|vehicle_color|unregistered_vehicle?:|vehicle_year|meter_number|feet_from_curb|violation_post_code|issue_date|Month_Issue_Date|violation_day_time|\n",
            "+--------------+--------+------------------+----------+--------------+-----------------+------------+--------------+------------+------------+------------+-----------------------+------------------+------------------+---------------+-----------+--------------+------------+--------------+-------------------+----------------+---------------------------------+------------+-----------+-------------------+-------------------+-----------+------------+--------------------+--------------------------+--------------------+------------------+-------------+----------------------+------------+------------+--------------+-------------------+----------+----------------+------------------+\n",
            "+--------------+--------+------------------+----------+--------------+-----------------+------------+--------------+------------+------------+------------+-----------------------+------------------+------------------+---------------+-----------+--------------+------------+--------------+-------------------+----------------+---------------------------------+------------+-----------+-------------------+-------------------+-----------+------------+--------------------+--------------------------+--------------------+------------------+-------------+----------------------+------------+------------+--------------+-------------------+----------+----------------+------------------+\n",
            "\n"
          ]
        }
      ]
    },
    {
      "cell_type": "code",
      "source": [
        "f_vy_df = df.filter(df.vehicle_year != 0)\n",
        "f_vy_df.count()"
      ],
      "metadata": {
        "colab": {
          "base_uri": "https://localhost:8080/"
        },
        "id": "k8159YkV-2pp",
        "outputId": "ce34bc05-48c6-48c8-9920-3b6e00f511f1"
      },
      "execution_count": 261,
      "outputs": [
        {
          "output_type": "execute_result",
          "data": {
            "text/plain": [
              "2916930"
            ]
          },
          "metadata": {},
          "execution_count": 261
        }
      ]
    },
    {
      "cell_type": "code",
      "source": [
        "f_vy_df.createOrReplaceTempView(\"f_vy_tickets\")"
      ],
      "metadata": {
        "id": "MCEA1BaC-3yq"
      },
      "execution_count": 262,
      "outputs": []
    },
    {
      "cell_type": "code",
      "source": [
        "top10_vy_df = spark.sql(\"\"\"\n",
        "    SELECT\n",
        "      `vehicle_year`,\n",
        "      COUNT(*) AS violation_count\n",
        "    FROM f_vy_tickets\n",
        "    WHERE `vehicle_year` IS NOT NULL\n",
        "    GROUP BY `vehicle_year`\n",
        "    ORDER BY violation_count DESC\n",
        "    LIMIT 10\n",
        "\"\"\").show()"
      ],
      "metadata": {
        "colab": {
          "base_uri": "https://localhost:8080/"
        },
        "id": "pe449Nub-6D6",
        "outputId": "d74c694a-1920-4469-b8d9-ae89f6e12d56"
      },
      "execution_count": 263,
      "outputs": [
        {
          "output_type": "stream",
          "name": "stdout",
          "text": [
            "+------------+---------------+\n",
            "|vehicle_year|violation_count|\n",
            "+------------+---------------+\n",
            "|        2024|         316546|\n",
            "|        2023|         291611|\n",
            "|        2022|         211793|\n",
            "|        2019|         209685|\n",
            "|        2021|         196030|\n",
            "|        2020|         189677|\n",
            "|        2018|         171224|\n",
            "|        2017|         163106|\n",
            "|        2016|         141310|\n",
            "|        2015|         133599|\n",
            "+------------+---------------+\n",
            "\n"
          ]
        }
      ]
    },
    {
      "cell_type": "markdown",
      "source": [
        "**What month has the most violations?**"
      ],
      "metadata": {
        "id": "A32EgsXI9cul"
      }
    },
    {
      "cell_type": "code",
      "source": [
        "spark.sql(\"\"\"\n",
        "          SELECT month_issue_date, COUNT(plate_id) as Number_Tickets\n",
        "          FROM tickets\n",
        "          GROUP BY month_issue_date\n",
        "          ORDER BY Number_Tickets DESC\n",
        "          \"\"\").show()"
      ],
      "metadata": {
        "colab": {
          "base_uri": "https://localhost:8080/"
        },
        "id": "RScrmC_So0Jd",
        "outputId": "f77be5be-97af-4ddb-adb5-fffb1e388185"
      },
      "execution_count": 217,
      "outputs": [
        {
          "output_type": "stream",
          "name": "stdout",
          "text": [
            "+----------------+--------------+\n",
            "|month_issue_date|Number_Tickets|\n",
            "+----------------+--------------+\n",
            "|               3|       1183173|\n",
            "|               2|       1176807|\n",
            "|               1|       1172934|\n",
            "|               4|            56|\n",
            "+----------------+--------------+\n",
            "\n"
          ]
        }
      ]
    },
    {
      "cell_type": "markdown",
      "source": [
        "**What kind of car has the most violations? **"
      ],
      "metadata": {
        "id": "x0OhMoKl3r3x"
      }
    },
    {
      "cell_type": "code",
      "source": [
        "spark.sql(\"\"\"\n",
        "          SELECT vehicle_body_type, COUNT(plate_id) as Number_Tickets\n",
        "          FROM tickets\n",
        "          GROUP BY vehicle_body_type\n",
        "          ORDER BY Number_Tickets DESC\n",
        "          \"\"\").show()"
      ],
      "metadata": {
        "colab": {
          "base_uri": "https://localhost:8080/"
        },
        "id": "FRvmue901TkZ",
        "outputId": "e47ac37a-ad67-4991-b1fe-091568903147"
      },
      "execution_count": 122,
      "outputs": [
        {
          "output_type": "stream",
          "name": "stdout",
          "text": [
            "+-----------------+--------------+\n",
            "|vehicle_body_type|Number_Tickets|\n",
            "+-----------------+--------------+\n",
            "|             SUBN|       1603966|\n",
            "|             4DSD|        795446|\n",
            "|              VAN|        306965|\n",
            "|             PICK|        115865|\n",
            "|             DELV|        104736|\n",
            "|             SPOR|         90679|\n",
            "|             SEDA|         58295|\n",
            "|             2DSD|         49717|\n",
            "|              SDN|         49068|\n",
            "|               SW|         39216|\n",
            "|               UT|         36330|\n",
            "|               4D|         28789|\n",
            "|             REFG|         25055|\n",
            "|             TRAC|         17819|\n",
            "|             TAXI|         16617|\n",
            "|               SD|         13311|\n",
            "|             CONV|         12217|\n",
            "|               4S|         11754|\n",
            "|             UTIL|         11524|\n",
            "|             TRLR|          9720|\n",
            "+-----------------+--------------+\n",
            "only showing top 20 rows\n",
            "\n"
          ]
        }
      ]
    },
    {
      "cell_type": "markdown",
      "source": [
        "**When is the most common violation time?**"
      ],
      "metadata": {
        "id": "kFqgdYzr4FJ2"
      }
    },
    {
      "cell_type": "code",
      "source": [
        "df_data = df.filter(df.violation_time.isNotNull())\n",
        "df_data.createOrReplaceTempView('tickets')\n"
      ],
      "metadata": {
        "id": "v_tNxrdon7O8"
      },
      "execution_count": 133,
      "outputs": []
    },
    {
      "cell_type": "code",
      "source": [
        "spark.sql(\"\"\"\n",
        "          SELECT violation_time, COUNT(plate_id) as Number_Tickets\n",
        "          FROM tickets\n",
        "          GROUP BY violation_time\n",
        "          ORDER BY Number_Tickets DESC\n",
        "          \"\"\").show()"
      ],
      "metadata": {
        "colab": {
          "base_uri": "https://localhost:8080/"
        },
        "id": "GqPYHwI622Wi",
        "outputId": "bb64931c-3945-45cb-dd30-f110ef088984"
      },
      "execution_count": 134,
      "outputs": [
        {
          "output_type": "stream",
          "name": "stdout",
          "text": [
            "+--------------+--------------+\n",
            "|violation_time|Number_Tickets|\n",
            "+--------------+--------------+\n",
            "|         1142A|          6693|\n",
            "|         1140A|          6652|\n",
            "|         0840A|          6578|\n",
            "|         1141A|          6531|\n",
            "|         0836A|          6492|\n",
            "|         0906A|          6486|\n",
            "|         1143A|          6481|\n",
            "|         0908A|          6473|\n",
            "|         0838A|          6471|\n",
            "|         1145A|          6467|\n",
            "|         1144A|          6467|\n",
            "|         1146A|          6462|\n",
            "|         1139A|          6462|\n",
            "|         0839A|          6455|\n",
            "|         1138A|          6434|\n",
            "|         0910A|          6401|\n",
            "|         0843A|          6374|\n",
            "|         0842A|          6368|\n",
            "|         1148A|          6355|\n",
            "|         1200P|          6320|\n",
            "+--------------+--------------+\n",
            "only showing top 20 rows\n",
            "\n"
          ]
        }
      ]
    },
    {
      "cell_type": "code",
      "source": [
        "df_data = df.filter(df.violation_day_time.isNotNull())\n",
        "df_data.createOrReplaceTempView('tickets')"
      ],
      "metadata": {
        "id": "LI5Fq-EzqZ5j"
      },
      "execution_count": 218,
      "outputs": []
    },
    {
      "cell_type": "code",
      "source": [
        "spark.sql(\"\"\"\n",
        "          SELECT violation_day_time, COUNT(plate_id) as Number_Tickets\n",
        "          FROM tickets\n",
        "          WHERE violation_day_time ='Morning' OR violation_day_time ='Afternoon'\n",
        "          GROUP BY violation_day_time\n",
        "          ORDER BY Number_Tickets DESC\n",
        "          \"\"\").show()"
      ],
      "metadata": {
        "colab": {
          "base_uri": "https://localhost:8080/"
        },
        "id": "CY4_R4XB46uM",
        "outputId": "820d51fe-b816-42d0-9e5c-6943fee3c9b8"
      },
      "execution_count": 242,
      "outputs": [
        {
          "output_type": "stream",
          "name": "stdout",
          "text": [
            "+------------------+--------------+\n",
            "|violation_day_time|Number_Tickets|\n",
            "+------------------+--------------+\n",
            "|           Morning|       1768544|\n",
            "|         Afternoon|       1764385|\n",
            "+------------------+--------------+\n",
            "\n"
          ]
        }
      ]
    },
    {
      "cell_type": "markdown",
      "source": [
        "**How much do we collect in tickets per violation code? **"
      ],
      "metadata": {
        "id": "UZIJCRgg5dfB"
      }
    },
    {
      "cell_type": "code",
      "source": [
        "spark.sql(\"\"\"\n",
        "          SELECT r.violation_code , c.manhattan_finea, c.others_finea, Number_Tickets_M,Number_Tickets_M*c.manhattan_finea as Total_M, Number_Tickets_O, Number_Tickets_O * c.others_finea as Total_O, Total_o+Total_M as Total\n",
        "          FROM(\n",
        "          SELECT violation_code, COUNT(CASE when registration_state='NY'THEN 1 END) as Number_Tickets_M, COUNT(CASE when registration_state!='NY' THEN 1 END) as Number_Tickets_O\n",
        "          FROM tickets\n",
        "          GROUP BY violation_code) r\n",
        "          INNER JOIN codes c\n",
        "          ON r.violation_code =c.violation_code\n",
        "          ORDER BY Total DESC\n",
        "          \"\"\").show()"
      ],
      "metadata": {
        "colab": {
          "base_uri": "https://localhost:8080/"
        },
        "id": "VYsmbN57XYzs",
        "outputId": "78a8f114-d340-410a-9646-659bce374e14"
      },
      "execution_count": 247,
      "outputs": [
        {
          "output_type": "stream",
          "name": "stdout",
          "text": [
            "+--------------+---------------+------------+----------------+--------+----------------+--------+--------+\n",
            "|violation_code|manhattan_finea|others_finea|Number_Tickets_M| Total_M|Number_Tickets_O| Total_O|   Total|\n",
            "+--------------+---------------+------------+----------------+--------+----------------+--------+--------+\n",
            "|            36|             50|          50|          685722|34286100|          252302|12615100|46901200|\n",
            "|            21|             65|          45|          271748|17663620|          126934| 5712030|23375650|\n",
            "|            14|            115|         115|          126458|14542670|           65312| 7510880|22053550|\n",
            "|            40|            115|         115|           93843|10791945|           55116| 6338340|17130285|\n",
            "|            15|            115|         115|           99602|11454230|           38921| 4475915|15930145|\n",
            "|            38|             65|          35|          193145|12554425|           79699| 2789465|15343890|\n",
            "|            43|             65|          35|          114239| 7425535|           48544| 1699040| 9124575|\n",
            "|            46|            115|         115|           56258| 6469670|           20855| 2398325| 8867995|\n",
            "|            20|             65|          60|           89834| 5839210|           39240| 2354400| 8193610|\n",
            "|            71|             65|          65|          122052| 7933380|             139|    9035| 7942415|\n",
            "|             5|             50|          50|          112460| 5623000|           40319| 2015950| 7638950|\n",
            "|            31|            115|         115|           35068| 4032820|           25678| 2952970| 6985790|\n",
            "|             7|             50|          50|           95098| 4754900|           29678| 1483900| 6238800|\n",
            "|            19|            115|         115|           31022| 3567530|           16841| 1936715| 5504245|\n",
            "|            16|             95|          95|           36857| 3501415|           15094| 1433930| 4935345|\n",
            "|            70|             65|          65|           71962| 4677530|             335|   21775| 4699305|\n",
            "|            69|             65|          35|           44983| 2923895|           12202|  427070| 3350965|\n",
            "|            37|             65|          35|           43113| 2802345|           10527|  368445| 3170790|\n",
            "|            74|             65|          65|           36819| 2393235|           10976|  713440| 3106675|\n",
            "|            12|             50|          50|           39016| 1950800|           16264|  813200| 2764000|\n",
            "+--------------+---------------+------------+----------------+--------+----------------+--------+--------+\n",
            "only showing top 20 rows\n",
            "\n"
          ]
        }
      ]
    }
  ],
  "metadata": {
    "colab": {
      "provenance": []
    },
    "kernelspec": {
      "display_name": "Python 3",
      "name": "python3"
    },
    "language_info": {
      "name": "python"
    }
  },
  "nbformat": 4,
  "nbformat_minor": 0
}